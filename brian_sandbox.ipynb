{
 "cells": [
  {
   "cell_type": "code",
   "execution_count": 74,
   "metadata": {
    "collapsed": true
   },
   "outputs": [],
   "source": [
    "reset -fs"
   ]
  },
  {
   "cell_type": "code",
   "execution_count": 75,
   "metadata": {
    "collapsed": false
   },
   "outputs": [],
   "source": [
    "# %run mine_wordnet.py"
   ]
  },
  {
   "cell_type": "code",
   "execution_count": 93,
   "metadata": {
    "collapsed": false
   },
   "outputs": [
    {
     "name": "stdout",
     "output_type": "stream",
     "text": [
      "Wolfram Alpha data stored for: inverse\n"
     ]
    }
   ],
   "source": [
    "%run get_data_from_wolfram.py inverse"
   ]
  },
  {
   "cell_type": "code",
   "execution_count": 70,
   "metadata": {
    "collapsed": false
   },
   "outputs": [
    {
     "name": "stdout",
     "output_type": "stream",
     "text": [
      "Variable                Type        Data/Info\n",
      "---------------------------------------------\n",
      "BeautifulSoup           type        <class 'bs4.BeautifulSoup'>\n",
      "clean_wolfram_data      function    <function clean_wolfram_data at 0x111ec2c80>\n",
      "command_line_args       str         oblique_triangle right_tr<...>iangle isosceles_triangle\n",
      "csv                     module      <module 'csv' from '/User<...>a/lib/python2.7/csv.pyc'>\n",
      "csvfile                 file        <closed file 'data/triang<...>mode 'rb' at 0x1118d1810>\n",
      "defaultdict             type        <type 'collections.defaultdict'>\n",
      "f                       file        <closed file 'title_trans<...> mode 'r' at 0x1119b5f60>\n",
      "file_endpoint           str         data/triangle_hyponyms.csv\n",
      "get_data_from_wolfram   module      <module 'get_data_from_wo<...>et_data_from_wolfram.py'>\n",
      "hypos                   list        n=8\n",
      "json                    module      <module 'json' from '/Use<...>on2.7/json/__init__.pyc'>\n",
      "main                    function    <function main at 0x111ec2e60>\n",
      "make_card_front         function    <function make_card_front at 0x111ec2f50>\n",
      "os                      module      <module 'os' from '/Users<...>da/lib/python2.7/os.pyc'>\n",
      "requests                module      <module 'requests' from '<...>s/requests/__init__.pyc'>\n",
      "save_image              function    <function save_image at 0x111ec2b90>\n",
      "shutil                  module      <module 'shutil' from '/U<...>ib/python2.7/shutil.pyc'>\n",
      "spamreader              reader      <_csv.reader object at 0x1119c26e0>\n",
      "sys                     module      <module 'sys' (built-in)>\n",
      "title_translation       dict        n=16\n",
      "wolfram_key             str         2YWVTJ-5VE4XWX5VY\n",
      "word                    str         triangle\n"
     ]
    }
   ],
   "source": [
    "whos"
   ]
  },
  {
   "cell_type": "code",
   "execution_count": 67,
   "metadata": {
    "collapsed": false
   },
   "outputs": [
    {
     "data": {
      "text/plain": [
       "'oblique_triangle right_triangle obtuse_triangle acute_triangle wedge equilateral_triangle scalene_triangle isosceles_triangle'"
      ]
     },
     "execution_count": 67,
     "metadata": {},
     "output_type": "execute_result"
    }
   ],
   "source": [
    "command_line_args "
   ]
  },
  {
   "cell_type": "code",
   "execution_count": null,
   "metadata": {
    "collapsed": true
   },
   "outputs": [],
   "source": []
  },
  {
   "cell_type": "code",
   "execution_count": null,
   "metadata": {
    "collapsed": true
   },
   "outputs": [],
   "source": []
  },
  {
   "cell_type": "code",
   "execution_count": null,
   "metadata": {
    "collapsed": true
   },
   "outputs": [],
   "source": []
  },
  {
   "cell_type": "code",
   "execution_count": null,
   "metadata": {
    "collapsed": true
   },
   "outputs": [],
   "source": []
  },
  {
   "cell_type": "code",
   "execution_count": 92,
   "metadata": {
    "collapsed": false
   },
   "outputs": [
    {
     "name": "stdout",
     "output_type": "stream",
     "text": [
      "Named laminae\n"
     ]
    },
    {
     "ename": "IOError",
     "evalue": "[Errno 2] No such file or directory: 'desktop/scalene_triangle'",
     "output_type": "error",
     "traceback": [
      "\u001b[0;31m---------------------------------------------------------------------------\u001b[0m",
      "\u001b[0;31mIOError\u001b[0m                                   Traceback (most recent call last)",
      "\u001b[0;32m<ipython-input-92-2b2ae37dd1f8>\u001b[0m in \u001b[0;36m<module>\u001b[0;34m()\u001b[0m\n\u001b[1;32m     12\u001b[0m         \u001b[0mimage_url\u001b[0m \u001b[0;34m=\u001b[0m \u001b[0mpod\u001b[0m\u001b[0;34m.\u001b[0m\u001b[0mfindAll\u001b[0m\u001b[0;34m(\u001b[0m\u001b[0;34m\"img\"\u001b[0m\u001b[0;34m)\u001b[0m\u001b[0;34m[\u001b[0m\u001b[0;36m0\u001b[0m\u001b[0;34m]\u001b[0m\u001b[0;34m.\u001b[0m\u001b[0mget\u001b[0m\u001b[0;34m(\u001b[0m\u001b[0;34m\"src\"\u001b[0m\u001b[0;34m)\u001b[0m\u001b[0;34m\u001b[0m\u001b[0m\n\u001b[1;32m     13\u001b[0m         \u001b[0mimage_filename\u001b[0m \u001b[0;34m=\u001b[0m \u001b[0;34m'desktop/'\u001b[0m\u001b[0;34m+\u001b[0m\u001b[0mtopic\u001b[0m\u001b[0;34m.\u001b[0m\u001b[0mreplace\u001b[0m\u001b[0;34m(\u001b[0m\u001b[0;34m' '\u001b[0m\u001b[0;34m,\u001b[0m \u001b[0;34m'_'\u001b[0m\u001b[0;34m)\u001b[0m\u001b[0;34m\u001b[0m\u001b[0m\n\u001b[0;32m---> 14\u001b[0;31m         \u001b[0msave_image\u001b[0m\u001b[0;34m(\u001b[0m\u001b[0mimage_url\u001b[0m\u001b[0;34m,\u001b[0m \u001b[0mimage_filename\u001b[0m\u001b[0;34m)\u001b[0m\u001b[0;34m\u001b[0m\u001b[0m\n\u001b[0m",
      "\u001b[0;32m/Users/brian/github/hacking_edu/get_data_from_wolfram.py\u001b[0m in \u001b[0;36msave_image\u001b[0;34m(url, filename)\u001b[0m\n\u001b[1;32m     40\u001b[0m \u001b[0;34m\u001b[0m\u001b[0m\n\u001b[1;32m     41\u001b[0m     \u001b[0;32mif\u001b[0m \u001b[0mr\u001b[0m\u001b[0;34m.\u001b[0m\u001b[0mstatus_code\u001b[0m \u001b[0;34m==\u001b[0m \u001b[0;36m200\u001b[0m\u001b[0;34m:\u001b[0m\u001b[0;34m\u001b[0m\u001b[0m\n\u001b[0;32m---> 42\u001b[0;31m         \u001b[0;32mwith\u001b[0m \u001b[0mopen\u001b[0m\u001b[0;34m(\u001b[0m\u001b[0mfilename\u001b[0m\u001b[0;34m,\u001b[0m \u001b[0;34m'wb'\u001b[0m\u001b[0;34m)\u001b[0m \u001b[0;32mas\u001b[0m \u001b[0mf\u001b[0m\u001b[0;34m:\u001b[0m\u001b[0;34m\u001b[0m\u001b[0m\n\u001b[0m\u001b[1;32m     43\u001b[0m             \u001b[0mr\u001b[0m\u001b[0;34m.\u001b[0m\u001b[0mraw\u001b[0m\u001b[0;34m.\u001b[0m\u001b[0mdecode_content\u001b[0m \u001b[0;34m=\u001b[0m \u001b[0mTrue\u001b[0m\u001b[0;34m\u001b[0m\u001b[0m\n\u001b[1;32m     44\u001b[0m             \u001b[0mshutil\u001b[0m\u001b[0;34m.\u001b[0m\u001b[0mcopyfileobj\u001b[0m\u001b[0;34m(\u001b[0m\u001b[0mr\u001b[0m\u001b[0;34m.\u001b[0m\u001b[0mraw\u001b[0m\u001b[0;34m,\u001b[0m \u001b[0mf\u001b[0m\u001b[0;34m)\u001b[0m\u001b[0;34m\u001b[0m\u001b[0m\n",
      "\u001b[0;31mIOError\u001b[0m: [Errno 2] No such file or directory: 'desktop/scalene_triangle'"
     ]
    }
   ],
   "source": [
    "# Debug topics\n",
    "topic = 'scalene triangle'\n",
    "url = 'http://api.wolframalpha.com/v2/query?input=' + topic + \"&format=image\" +'&appid=' + '2YWVTJ-5VE4XWX5VY'\n",
    "r  = requests.get(url)\n",
    "data = r.text\n",
    "soup = BeautifulSoup(data)\n",
    "\n",
    "for i, pod in enumerate(soup.findAll('pod')):\n",
    "    if i == 1:\n",
    "        title = pod.attrs['title']\n",
    "        print(title)\n",
    "        image_url = pod.findAll(\"img\")[0].get(\"src\")\n",
    "        image_filename = 'desktop/'+topic.replace(' ', '_')\n",
    "        save_image(image_url, image_filename)"
   ]
  },
  {
   "cell_type": "code",
   "execution_count": null,
   "metadata": {
    "collapsed": true
   },
   "outputs": [],
   "source": [
    "\n",
    "    "
   ]
  }
 ],
 "metadata": {
  "kernelspec": {
   "display_name": "Python 2",
   "language": "python",
   "name": "python2"
  },
  "language_info": {
   "codemirror_mode": {
    "name": "ipython",
    "version": 2
   },
   "file_extension": ".py",
   "mimetype": "text/x-python",
   "name": "python",
   "nbconvert_exporter": "python",
   "pygments_lexer": "ipython2",
   "version": "2.7.10"
  }
 },
 "nbformat": 4,
 "nbformat_minor": 0
}
