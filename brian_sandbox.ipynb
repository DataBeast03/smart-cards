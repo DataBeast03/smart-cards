{
 "cells": [
  {
   "cell_type": "markdown",
   "metadata": {},
   "source": [
    "Terms to check\n",
    "===\n",
    "\n",
    "Unknown\n",
    "---\n",
    "\n",
    "\n",
    "Pass\n",
    "---\n",
    "- pi\n",
    "- triangle\n",
    "- logarithm\n",
    "- cosine\n",
    "- derivative\n",
    "- unit circle\n",
    "- Pythagorean\n",
    "- Pythagorean Theorem\n",
    "\n",
    "\n",
    "Fail (but any issue to fix)\n",
    "---\n",
    "\n",
    "\n",
    "Fail (but not a problem)\n",
    "---\n",
    "- venn: New title. Please process: 'Last close'\n",
    "\n"
   ]
  },
  {
   "cell_type": "code",
   "execution_count": 44,
   "metadata": {
    "collapsed": false
   },
   "outputs": [],
   "source": [
    "reset -fs"
   ]
  },
  {
   "cell_type": "code",
   "execution_count": 61,
   "metadata": {
    "collapsed": false
   },
   "outputs": [
    {
     "name": "stdout",
     "output_type": "stream",
     "text": [
      "('Processing data from wolfram API: ', 'pythagorean')\n",
      "Wolfram Alpha data stored for: pythagorean\n",
      "\n",
      "\n"
     ]
    }
   ],
   "source": [
    "%run get_data_from_wolfram.py Pythagorean"
   ]
  },
  {
   "cell_type": "code",
   "execution_count": 63,
   "metadata": {
    "collapsed": false
   },
   "outputs": [
    {
     "name": "stdout",
     "output_type": "stream",
     "text": [
      "TOPIC:  Pythagorean Theorem\n",
      "('Processing data from wolfram API: ', 'pythagorean theorem')\n",
      "Wolfram Alpha data stored for: pythagorean theorem\n",
      "\n",
      "\n"
     ]
    }
   ],
   "source": [
    "%run mine_wordnet.py \"Pythagorean Theorem\""
   ]
  },
  {
   "cell_type": "code",
   "execution_count": null,
   "metadata": {
    "collapsed": true
   },
   "outputs": [],
   "source": [
    "\n",
    "    "
   ]
  }
 ],
 "metadata": {
  "kernelspec": {
   "display_name": "Python 2",
   "language": "python",
   "name": "python2"
  },
  "language_info": {
   "codemirror_mode": {
    "name": "ipython",
    "version": 2
   },
   "file_extension": ".py",
   "mimetype": "text/x-python",
   "name": "python",
   "nbconvert_exporter": "python",
   "pygments_lexer": "ipython2",
   "version": "2.7.10"
  }
 },
 "nbformat": 4,
 "nbformat_minor": 0
}
