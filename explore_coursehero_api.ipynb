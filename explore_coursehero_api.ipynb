{
 "cells": [
  {
   "cell_type": "markdown",
   "metadata": {},
   "source": [
    "[CourseHero API docs](https://www.coursehero.com/api/intro.php)"
   ]
  },
  {
   "cell_type": "code",
   "execution_count": 173,
   "metadata": {
    "collapsed": true
   },
   "outputs": [],
   "source": [
    "reset -fs"
   ]
  },
  {
   "cell_type": "code",
   "execution_count": 174,
   "metadata": {
    "collapsed": true
   },
   "outputs": [],
   "source": [
    "from __future__ import (absolute_import, \n",
    "                        division,\n",
    "                        print_function,\n",
    "                        unicode_literals)\n",
    "from pprint import pprint\n",
    "import requests\n",
    "import urllib\n",
    "from urlparse import urljoin, urlunsplit"
   ]
  },
  {
   "cell_type": "code",
   "execution_count": 175,
   "metadata": {
    "collapsed": true
   },
   "outputs": [],
   "source": [
    "def validate_api_call(r):\n",
    "    \"Check if api call gets a valid code, if not print the error message.\"\n",
    "    if r.status_code == 200:\n",
    "        print('API call success =)')\n",
    "        data = r.json()['data']\n",
    "    elif r.status_code == 400:\n",
    "         pprint(eval(r.content.replace('false', 'False')))\n",
    "    else:\n",
    "        print('Check this status:' + r.status_code)"
   ]
  },
  {
   "cell_type": "code",
   "execution_count": 176,
   "metadata": {
    "collapsed": false
   },
   "outputs": [],
   "source": [
    "with open('.config') as f:\n",
    "    api_key = f.readline()\n",
    "    exec(api_key)\n",
    "    api_key = {'api_key': api_key}\n",
    "    \n",
    "    #secret_key = f.readline()\n",
    "    #exec(secret_key)"
   ]
  },
  {
   "cell_type": "code",
   "execution_count": 177,
   "metadata": {
    "collapsed": false
   },
   "outputs": [
    {
     "name": "stdout",
     "output_type": "stream",
     "text": [
      "api_key=CeTFToHwkEhWZx8fbVWjB9yQqycaPYr3&starts_with=pi\n",
      "https://www.coursehero.com/api/flashcards/categories/?api_key=CeTFToHwkEhWZx8fbVWjB9yQqycaPYr3&starts_with=pi\n"
     ]
    }
   ],
   "source": [
    "# Build api call\n",
    "protocol = 'https'\n",
    "base = 'www.coursehero.com/api/flashcards'\n",
    "endpoint = 'categories/'\n",
    "\n",
    "parameter  = 'starts_with'\n",
    "value = 'pi' # aka topic\n",
    "\n",
    "queries = {}\n",
    "queries.update(api_key)\n",
    "queries.update({parameter: value})\n",
    "          \n",
    "url_query = urllib.urlencode(queries)\n",
    "\n",
    "print(url_query)\n",
    "\n",
    "url = urlunsplit((protocol, base, endpoint, url_query, ''))\n",
    "print(url)"
   ]
  },
  {
   "cell_type": "code",
   "execution_count": 178,
   "metadata": {
    "collapsed": false
   },
   "outputs": [
    {
     "name": "stdout",
     "output_type": "stream",
     "text": [
      "API call success =)\n"
     ]
    }
   ],
   "source": [
    "#  Query API\n",
    "from pprint import pprint\n",
    "\n",
    "r = requests.get(url)\n",
    "\n",
    "validate_api_call(r)\n",
    "\n",
    "data = r.json()['data']"
   ]
  },
  {
   "cell_type": "code",
   "execution_count": 179,
   "metadata": {
    "collapsed": false,
    "scrolled": true
   },
   "outputs": [
    {
     "data": {
      "text/plain": [
       "[{u'category': u'PI', u'id': 1914},\n",
       " {u'category': u'Piaget ', u'id': 4053},\n",
       " {u'category': u'Piano', u'id': 10268},\n",
       " {u'category': u'Piano Keyboarding', u'id': 251051},\n",
       " {u'category': u'Piano Theory', u'id': 10269},\n",
       " {u'category': u'Piano101', u'id': 119262},\n",
       " {u'category': u'Piatti', u'id': 104281},\n",
       " {u'category': u'Picture 1', u'id': 39930},\n",
       " {u'category': u'Picture Composition', u'id': 202332},\n",
       " {u'category': u'pie', u'id': 7441},\n",
       " {u'category': u'Pieces', u'id': 5191},\n",
       " {u'category': u'Pier-point', u'id': 1880},\n",
       " {u'category': u'pierre', u'id': 26726},\n",
       " {u'category': u'Pig ', u'id': 8166},\n",
       " {u'category': u'Pig digestive, urinary, and reproductive', u'id': 8184},\n",
       " {u'category': u'Pig dissection ', u'id': 8270},\n",
       " {u'category': u'PIHT A&P 2', u'id': 72844},\n",
       " {u'category': u'PIHT Clinical', u'id': 73677},\n",
       " {u'category': u'PIHT CPT', u'id': 72947},\n",
       " {u'category': u'PIHT Med Term', u'id': 81640},\n",
       " {u'category': u'PIHT Pharmocology', u'id': 151124},\n",
       " {u'category': u'PIHT Psychology', u'id': 142704},\n",
       " {u'category': u'Pilates', u'id': 2182},\n",
       " {u'category': u'Pilgrimage', u'id': 31767},\n",
       " {u'category': u'Pilot', u'id': 2039},\n",
       " {u'category': u'Pilot Training', u'id': 10848},\n",
       " {u'category': u'Pine Acres', u'id': 8239},\n",
       " {u'category': u'Pine beetle', u'id': 15004},\n",
       " {u'category': u'Pink words (7)', u'id': 6675},\n",
       " {u'category': u'pinkham 6A', u'id': 13092},\n",
       " {u'category': u'Pinyin pronunciation', u'id': 11035},\n",
       " {u'category': u'Pituitary Hormones and their control by the Hypothalamus',\n",
       "  u'id': 5988},\n",
       " {u'category': u'Pizza', u'id': 2560},\n",
       " {u'category': u'Pizza memorization', u'id': 14400},\n",
       " {u'category': u\"Pizza's\", u'id': 3181}]"
      ]
     },
     "execution_count": 179,
     "metadata": {},
     "output_type": "execute_result"
    }
   ],
   "source": [
    "data"
   ]
  },
  {
   "cell_type": "code",
   "execution_count": 180,
   "metadata": {
    "collapsed": false
   },
   "outputs": [],
   "source": [
    "# Get best category id \n",
    "for datum in data:\n",
    "    if datum['category'].lower() == value: # TODO: Make fuzzy match using fuzzywuzzy package\n",
    "        category_id = datum['id']"
   ]
  },
  {
   "cell_type": "code",
   "execution_count": 210,
   "metadata": {
    "collapsed": false
   },
   "outputs": [
    {
     "data": {
      "text/plain": [
       "1914"
      ]
     },
     "execution_count": 210,
     "metadata": {},
     "output_type": "execute_result"
    }
   ],
   "source": [
    "category_id"
   ]
  },
  {
   "cell_type": "code",
   "execution_count": 181,
   "metadata": {
    "collapsed": false
   },
   "outputs": [
    {
     "name": "stdout",
     "output_type": "stream",
     "text": [
      "https://www.coursehero.com/api/flashcards/categories/1914/sets/?api_key=CeTFToHwkEhWZx8fbVWjB9yQqycaPYr3\n"
     ]
    }
   ],
   "source": [
    "# Get flashcard sets that share category id\n",
    "endpoint = 'categories/' + \"/\".join([str(category_id), 'sets']) + '/' # /api/flashcards/categories/1914/sets\n",
    "queries = {}\n",
    "queries.update(api_key)\n",
    "url_query = urllib.urlencode(queries)\n",
    "url = urlunsplit((protocol, base, endpoint, url_query, ''))\n",
    "print(url)"
   ]
  },
  {
   "cell_type": "code",
   "execution_count": 182,
   "metadata": {
    "collapsed": false
   },
   "outputs": [
    {
     "name": "stdout",
     "output_type": "stream",
     "text": [
      "API call success =)\n"
     ]
    }
   ],
   "source": [
    "r = requests.get(url)\n",
    "validate_api_call(r)\n",
    "data = r.json()['data']"
   ]
  },
  {
   "cell_type": "code",
   "execution_count": 215,
   "metadata": {
    "collapsed": false
   },
   "outputs": [
    {
     "data": {
      "text/plain": [
       "[{u'created': 1367234226,\n",
       "  u'description': u'',\n",
       "  u'fcsid': 513137,\n",
       "  u'language_definition': None,\n",
       "  u'language_term': None,\n",
       "  u'modified': 1367234226,\n",
       "  u'owner_id': u'100000752218763',\n",
       "  u'private': 0,\n",
       "  u'title': u'Bydureon',\n",
       "  u'total_flashcards': u'35',\n",
       "  u'url': u'/flashcards/513137/Bydureon/'},\n",
       " {u'created': 1367234205,\n",
       "  u'description': u'',\n",
       "  u'fcsid': 513134,\n",
       "  u'language_definition': None,\n",
       "  u'language_term': None,\n",
       "  u'modified': 1367234205,\n",
       "  u'owner_id': u'100000752218763',\n",
       "  u'private': 0,\n",
       "  u'title': u'Januvia',\n",
       "  u'total_flashcards': u'17',\n",
       "  u'url': u'/flashcards/513134/Januvia/'},\n",
       " {u'created': 1367234220,\n",
       "  u'description': u'',\n",
       "  u'fcsid': 513136,\n",
       "  u'language_definition': None,\n",
       "  u'language_term': None,\n",
       "  u'modified': 1367234220,\n",
       "  u'owner_id': u'100000752218763',\n",
       "  u'private': 0,\n",
       "  u'title': u'Lantus',\n",
       "  u'total_flashcards': u'47',\n",
       "  u'url': u'/flashcards/513136/Lantus/'},\n",
       " {u'created': 1367234215,\n",
       "  u'description': u'',\n",
       "  u'fcsid': 513135,\n",
       "  u'language_definition': None,\n",
       "  u'language_term': None,\n",
       "  u'modified': 1367234215,\n",
       "  u'owner_id': u'100000752218763',\n",
       "  u'private': 0,\n",
       "  u'title': u'Levemir',\n",
       "  u'total_flashcards': u'34',\n",
       "  u'url': u'/flashcards/513135/Levemir/'},\n",
       " {u'created': 1365378127,\n",
       "  u'description': u'History',\n",
       "  u'fcsid': 504760,\n",
       "  u'language_definition': None,\n",
       "  u'language_term': None,\n",
       "  u'modified': 1365385635,\n",
       "  u'owner_id': u'100000752168306',\n",
       "  u'private': 0,\n",
       "  u'title': u'Pi',\n",
       "  u'total_flashcards': u'6',\n",
       "  u'url': u'/flashcards/504760/Pi/'},\n",
       " {u'created': 1409261606,\n",
       "  u'description': u\"Please tell me on the comment of how much can you remember! I'll say How much pi do you know??? Please don't cheat! :D\",\n",
       "  u'fcsid': 670070,\n",
       "  u'language_definition': None,\n",
       "  u'language_term': None,\n",
       "  u'modified': 1409261606,\n",
       "  u'owner_id': u'100000754393534',\n",
       "  u'private': 0,\n",
       "  u'title': u'PI',\n",
       "  u'total_flashcards': u'5',\n",
       "  u'url': u'/flashcards/670070/PI/'},\n",
       " {u'created': 1352144758,\n",
       "  u'description': u'True or False questions',\n",
       "  u'fcsid': 456516,\n",
       "  u'language_definition': None,\n",
       "  u'language_term': None,\n",
       "  u'modified': 1362010522,\n",
       "  u'owner_id': u'100000751543326',\n",
       "  u'private': 0,\n",
       "  u'title': u'True or False',\n",
       "  u'total_flashcards': u'300',\n",
       "  u'url': u'/flashcards/456516/True-or-False/'}]"
      ]
     },
     "execution_count": 215,
     "metadata": {},
     "output_type": "execute_result"
    }
   ],
   "source": [
    "# Look at sample\n",
    "data"
   ]
  },
  {
   "cell_type": "code",
   "execution_count": 184,
   "metadata": {
    "collapsed": false
   },
   "outputs": [],
   "source": [
    "# url and total flashcards of user with largest set\n",
    "max_url   = \"empty\"\n",
    "max_cards = 0\n",
    "max_user = None\n",
    "for i in xrange(len(data)):\n",
    "    if i == 0:\n",
    "        max_url      = data[i][\"url\"]\n",
    "        max_cards    = int(data[i][\"total_flashcards\"])\n",
    "        max_user     = data[i] \n",
    "    else:\n",
    "        if int(data[i][\"total_flashcards\"]) > max_cards:\n",
    "            max_cards = int(data[i][\"total_flashcards\"])\n",
    "            max_url   = data[i][\"url\"]\n",
    "            max_user  = data[i]"
   ]
  },
  {
   "cell_type": "code",
   "execution_count": 185,
   "metadata": {
    "collapsed": false
   },
   "outputs": [],
   "source": [
    "#url_max = max_url.split(\"/\")[1:3]"
   ]
  },
  {
   "cell_type": "code",
   "execution_count": 186,
   "metadata": {
    "collapsed": false
   },
   "outputs": [],
   "source": [
    "#url = \"/\".join((ab[0],str(ab[1]), \"sets\"))"
   ]
  },
  {
   "cell_type": "code",
   "execution_count": 187,
   "metadata": {
    "collapsed": false
   },
   "outputs": [
    {
     "data": {
      "text/plain": [
       "u'/flashcards/456516/True-or-False/'"
      ]
     },
     "execution_count": 187,
     "metadata": {},
     "output_type": "execute_result"
    }
   ],
   "source": [
    "max_url"
   ]
  },
  {
   "cell_type": "code",
   "execution_count": 188,
   "metadata": {
    "collapsed": false
   },
   "outputs": [
    {
     "data": {
      "text/plain": [
       "300"
      ]
     },
     "execution_count": 188,
     "metadata": {},
     "output_type": "execute_result"
    }
   ],
   "source": [
    "max_cards"
   ]
  },
  {
   "cell_type": "code",
   "execution_count": 189,
   "metadata": {
    "collapsed": false
   },
   "outputs": [
    {
     "data": {
      "text/plain": [
       "{u'created': 1352144758,\n",
       " u'description': u'True or False questions',\n",
       " u'fcsid': 456516,\n",
       " u'language_definition': None,\n",
       " u'language_term': None,\n",
       " u'modified': 1362010522,\n",
       " u'owner_id': u'100000751543326',\n",
       " u'private': 0,\n",
       " u'title': u'True or False',\n",
       " u'total_flashcards': u'300',\n",
       " u'url': u'/flashcards/456516/True-or-False/'}"
      ]
     },
     "execution_count": 189,
     "metadata": {},
     "output_type": "execute_result"
    }
   ],
   "source": [
    "max_user"
   ]
  },
  {
   "cell_type": "code",
   "execution_count": null,
   "metadata": {
    "collapsed": true
   },
   "outputs": [],
   "source": [
    "/user/group/:FGID/sets"
   ]
  },
  {
   "cell_type": "code",
   "execution_count": null,
   "metadata": {
    "collapsed": true
   },
   "outputs": [],
   "source": [
    "'http://swww.coursehero.com/api/flashcards/user/group/:456516/sets\""
   ]
  },
  {
   "cell_type": "code",
   "execution_count": 208,
   "metadata": {
    "collapsed": false
   },
   "outputs": [
    {
     "name": "stdout",
     "output_type": "stream",
     "text": [
      "https://www.coursehero.com/api/flashcards/user/100000751543326?api_key=CeTFToHwkEhWZx8fbVWjB9yQqycaPYr3&starts_with=pi\n",
      "{u'code_int': 600,\n",
      " u'code_str': u'BAD_PARAMS',\n",
      " u'data': False,\n",
      " u'data_type': u'data',\n",
      " u'message': u'Missing parameter: q.'}\n"
     ]
    }
   ],
   "source": [
    "# TODO: Find best set within data\n",
    "# Find the set with the most cards\n",
    "\n",
    "# Build api call\n",
    "protocol = 'https'\n",
    "base = 'www.coursehero.com/api'\n",
    "endpoint = 'flashcards/user/100000751543326' # url\n",
    "\n",
    "# parameter  = 'starts_with'\n",
    "# value = 'pi' # aka topic\n",
    "\n",
    "# queries = {}\n",
    "# queries.update(api_key)\n",
    "# queries.update({parameter: value})\n",
    "          \n",
    "# url_query = urllib.urlencode(queries)\n",
    "\n",
    "# print(url_query)\n",
    "\n",
    "url = urlunsplit((protocol, base, endpoint, url_query, ''))\n",
    "print(url)\n",
    "\n",
    "#  Query API\n",
    "r = requests.get(url)\n",
    "\n",
    "validate_api_call(r)\n",
    "\n",
    "data_set = r.json()"
   ]
  },
  {
   "cell_type": "code",
   "execution_count": 209,
   "metadata": {
    "collapsed": false,
    "scrolled": true
   },
   "outputs": [
    {
     "data": {
      "text/plain": [
       "{u'code_int': 600,\n",
       " u'code_str': u'BAD_PARAMS',\n",
       " u'data': False,\n",
       " u'data_type': u'data',\n",
       " u'message': u'Missing parameter: q.'}"
      ]
     },
     "execution_count": 209,
     "metadata": {},
     "output_type": "execute_result"
    }
   ],
   "source": [
    "data_set"
   ]
  },
  {
   "cell_type": "code",
   "execution_count": 192,
   "metadata": {
    "collapsed": true
   },
   "outputs": [],
   "source": [
    "# TODO: make an api to get the best flashcard set"
   ]
  },
  {
   "cell_type": "code",
   "execution_count": null,
   "metadata": {
    "collapsed": true
   },
   "outputs": [],
   "source": []
  },
  {
   "cell_type": "code",
   "execution_count": 193,
   "metadata": {
    "collapsed": true
   },
   "outputs": [],
   "source": [
    "# TODO: save flashcards to the repo"
   ]
  },
  {
   "cell_type": "code",
   "execution_count": null,
   "metadata": {
    "collapsed": true
   },
   "outputs": [],
   "source": []
  }
 ],
 "metadata": {
  "kernelspec": {
   "display_name": "Python 2",
   "language": "python",
   "name": "python2"
  },
  "language_info": {
   "codemirror_mode": {
    "name": "ipython",
    "version": 2
   },
   "file_extension": ".py",
   "mimetype": "text/x-python",
   "name": "python",
   "nbconvert_exporter": "python",
   "pygments_lexer": "ipython2",
   "version": "2.7.10"
  }
 },
 "nbformat": 4,
 "nbformat_minor": 0
}
