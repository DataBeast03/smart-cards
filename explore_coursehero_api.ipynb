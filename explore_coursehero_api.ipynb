{
 "cells": [
  {
   "cell_type": "markdown",
   "metadata": {},
   "source": [
    "[CourseHero API docs](https://www.coursehero.com/api/intro.php)"
   ]
  },
  {
   "cell_type": "code",
   "execution_count": 11,
   "metadata": {
    "collapsed": true
   },
   "outputs": [],
   "source": [
    "reset -fs"
   ]
  },
  {
   "cell_type": "code",
   "execution_count": 20,
   "metadata": {
    "collapsed": false
   },
   "outputs": [
    {
     "name": "stdout",
     "output_type": "stream",
     "text": [
      "https://www.coursehero.com/api/flashcards/categories/?api_key=CeTFToHwkEhWZx8fbVWjB9yQqycaPYr3&starts_with=pi\n",
      "API call success =)\n",
      "https://www.coursehero.com/api/flashcards/categories/1914/sets/?api_key=CeTFToHwkEhWZx8fbVWjB9yQqycaPYr3\n",
      "API call success =)\n",
      "\n",
      "\n",
      "The best cards for topc pi: \n",
      "/flashcards/456516/True-or-False/\n",
      "{u'description': u'True or False questions', u'title': u'True or False', u'url': u'/flashcards/456516/True-or-False/', u'total_flashcards': u'300', u'created': 1352144758, u'modified': 1362010522, u'private': 0, u'language_definition': None, u'fcsid': 456516, u'language_term': None, u'owner_id': u'100000751543326'}\n",
      "300\n"
     ]
    }
   ],
   "source": [
    "%run call_coursehero_api.py"
   ]
  },
  {
   "cell_type": "code",
   "execution_count": 7,
   "metadata": {
    "collapsed": false
   },
   "outputs": [
    {
     "name": "stdout",
     "output_type": "stream",
     "text": [
      "Variable            Type                   Data/Info\n",
      "----------------------------------------------------\n",
      "absolute_import     __future__._Feature    _Feature((2, 5, 0, 'alpha<...>0, 0, 'alpha', 0), 16384)\n",
      "api_key             dict                   n=1\n",
      "base                unicode                www.coursehero.com/api/flashcards\n",
      "division            __future__._Feature    _Feature((2, 2, 0, 'alpha<...> 0, 0, 'alpha', 0), 8192)\n",
      "endpoint            unicode                categories/\n",
      "f                   file                   <closed file u'.config', mode 'r' at 0x108d541e0>\n",
      "parameter           unicode                starts_with\n",
      "pprint              function               <function pprint at 0x104c34140>\n",
      "print_function      __future__._Feature    _Feature((2, 6, 0, 'alpha<...>0, 0, 'alpha', 0), 65536)\n",
      "protocol            unicode                https\n",
      "queries             dict                   n=2\n",
      "requests            module                 <module 'requests' from '<...>s/requests/__init__.pyc'>\n",
      "unicode_literals    __future__._Feature    _Feature((2, 6, 0, 'alpha<...>, 0, 'alpha', 0), 131072)\n",
      "url                 unicode                https://www.coursehero.co<...>yQqycaPYr3&starts_with=pi\n",
      "url_query           str                    api_key=CeTFToHwkEhWZx8fb<...>yQqycaPYr3&starts_with=pi\n",
      "urljoin             function               <function urljoin at 0x104d72ed8>\n",
      "urllib              module                 <module 'urllib' from '/U<...>ib/python2.7/urllib.pyc'>\n",
      "urlunsplit          function               <function urlunsplit at 0x104d72e60>\n",
      "validate_api_call   function               <function validate_api_call at 0x108cc3aa0>\n",
      "value               unicode                pi\n"
     ]
    }
   ],
   "source": [
    "whos"
   ]
  },
  {
   "cell_type": "code",
   "execution_count": null,
   "metadata": {
    "collapsed": true
   },
   "outputs": [],
   "source": [
    "    # TODO: Find best set within data\n",
    "    # Find the set with the most cards\n",
    "\n",
    "    # Build api call\n",
    "    protocol = 'https'\n",
    "    base = 'www.coursehero.com/api'\n",
    "    endpoint = 'flashcards/sets/' # url\n",
    "\n",
    "    parameter  = 'starts_with'\n",
    "    value = 'pi' # aka topic\n",
    "\n",
    "    queries = {}\n",
    "    queries.update(api_key)\n",
    "    queries.update({parameter: value})\n",
    "              \n",
    "    url_query = urllib.urlencode(queries)\n",
    "\n",
    "    print(url_query)\n",
    "\n",
    "    url = urlunsplit((protocol, base, endpoint, url_query, ''))\n",
    "    print(url)\n",
    "\n",
    "    #  Query API\n",
    "    #r = requests.get(url)\n",
    "    r = requests.post(url, data = {\"definition\": \"null\", \"term\": \"What is the plots of arctan?\", \"term_image\": \"data/images/arctan\", \"hint\": \"\", \"hint_image\": 'null', \"order\": \"0\",\"fcid\": \"1\", \"example\": \"\"})\n",
    "    validate_api_call(r)\n",
    "\n",
    "    data_set = r.json()"
   ]
  }
 ],
 "metadata": {
  "kernelspec": {
   "display_name": "Python 2",
   "language": "python",
   "name": "python2"
  },
  "language_info": {
   "codemirror_mode": {
    "name": "ipython",
    "version": 2
   },
   "file_extension": ".py",
   "mimetype": "text/x-python",
   "name": "python",
   "nbconvert_exporter": "python",
   "pygments_lexer": "ipython2",
   "version": "2.7.10"
  }
 },
 "nbformat": 4,
 "nbformat_minor": 0
}
