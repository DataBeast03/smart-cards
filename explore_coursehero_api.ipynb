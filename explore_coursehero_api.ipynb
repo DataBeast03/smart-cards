{
 "cells": [
  {
   "cell_type": "markdown",
   "metadata": {},
   "source": [
    "[docs](https://www.coursehero.com/api/intro.php)"
   ]
  },
  {
   "cell_type": "code",
   "execution_count": 27,
   "metadata": {
    "collapsed": true
   },
   "outputs": [],
   "source": [
    "reset -fs"
   ]
  },
  {
   "cell_type": "code",
   "execution_count": 51,
   "metadata": {
    "collapsed": true
   },
   "outputs": [],
   "source": [
    "from __future__ import (absolute_import, \n",
    "                        division,\n",
    "                        print_function,\n",
    "                        unicode_literals)"
   ]
  },
  {
   "cell_type": "code",
   "execution_count": 52,
   "metadata": {
    "collapsed": true
   },
   "outputs": [],
   "source": [
    "import requests"
   ]
  },
  {
   "cell_type": "code",
   "execution_count": 53,
   "metadata": {
    "collapsed": false
   },
   "outputs": [],
   "source": [
    "with open('.config') as f:\n",
    "    api_key = f.readline()\n",
    "    exec(api_key)\n",
    "    \n",
    "    secret_key = f.readline()\n",
    "    exec(secret_key)"
   ]
  },
  {
   "cell_type": "code",
   "execution_count": 69,
   "metadata": {
    "collapsed": false
   },
   "outputs": [
    {
     "name": "stdout",
     "output_type": "stream",
     "text": [
      "https://www.coursehero.com/api/flashcards/categories?letter=p&starts_with=pi&api_key=CeTFToHwkEhWZx8fbVWjB9yQqycaPYr3\n"
     ]
    }
   ],
   "source": [
    "url_base = 'https://www.coursehero.com/api/flashcards/'\n",
    "suffix = 'categories?letter=p&starts_with=pi'\n",
    "api_key_string = '&api_key='+api_key\n",
    "url = url_base + suffix + api_key_string\n",
    "\n",
    "print(url)"
   ]
  },
  {
   "cell_type": "code",
   "execution_count": 65,
   "metadata": {
    "collapsed": true
   },
   "outputs": [],
   "source": [
    "# get user token, probalby not not need\n",
    "# https://www.coursehero.com/api/authorize/?api_key=CeTFToHwkEhWZx8fbVWjB9yQqycaPYr3&state=STATE\n"
   ]
  },
  {
   "cell_type": "code",
   "execution_count": 71,
   "metadata": {
    "collapsed": false
   },
   "outputs": [
    {
     "ename": "SyntaxError",
     "evalue": "invalid syntax (<ipython-input-71-84a941328828>, line 12)",
     "output_type": "error",
     "traceback": [
      "\u001b[0;36m  File \u001b[0;32m\"<ipython-input-71-84a941328828>\"\u001b[0;36m, line \u001b[0;32m12\u001b[0m\n\u001b[0;31m    print('Check this status': r.status_code)\u001b[0m\n\u001b[0m                             ^\u001b[0m\n\u001b[0;31mSyntaxError\u001b[0m\u001b[0;31m:\u001b[0m invalid syntax\n"
     ]
    }
   ],
   "source": [
    "#  Test api query with Requests\n",
    "from pprint import pprint\n",
    "\n",
    "r = requests.get(url)\n",
    "#                  headers={'Authorization': 'Bearer '+api_key})\n",
    "\n",
    "if r.status_code == 200:\n",
    "    print('API call success =)')\n",
    "elif r.status_code == 400:\n",
    "     pprint(eval(r.content.replace('false', 'False')))\n",
    "else:\n",
    "    print('Check this status': r.status_code)"
   ]
  },
  {
   "cell_type": "code",
   "execution_count": 73,
   "metadata": {
    "collapsed": false
   },
   "outputs": [
    {
     "name": "stdout",
     "output_type": "stream",
     "text": [
      "{u'code_int': 200,\n",
      " u'code_str': u'SUCCESS',\n",
      " u'data': [{u'category': u'P', u'id': 1168},\n",
      "           {u'category': u'P only', u'id': 7210},\n",
      "           {u'category': u'P&P', u'id': 14157},\n",
      "           {u'category': u'P&V', u'id': 614},\n",
      "           {u'category': u'P. 30-34', u'id': 1554},\n",
      "           {u'category': u'P. Chem', u'id': 12331},\n",
      "           {u'category': u'P. E. 16', u'id': 11164},\n",
      "           {u'category': u'P.201', u'id': 4083},\n",
      "           {u'category': u'P.E', u'id': 12168},\n",
      "           {u'category': u'P.E.', u'id': 3991},\n",
      "           {u'category': u'P.s.', u'id': 14779},\n",
      "           {u'category': u'P1-1.1-4.6', u'id': 12135},\n",
      "           {u'category': u'P10-3A', u'id': 263525},\n",
      "           {u'category': u'P10-5A', u'id': 263526},\n",
      "           {u'category': u'P14-5A', u'id': 263528},\n",
      "           {u'category': u'P3', u'id': 11336},\n",
      "           {u'category': u'P4', u'id': 11457},\n",
      "           {u'category': u'P8', u'id': 3737},\n",
      "           {u'category': u'p>b, \\xe7>c, t>d, k>g-?', u'id': 26305},\n",
      "           {u'category': u'PA', u'id': 11515},\n",
      "           {u'category': u'PA 571', u'id': 262228},\n",
      "           {u'category': u'PA 571 ENTIRE COURSE', u'id': 268287},\n",
      "           {u'category': u'PA 581', u'id': 262229},\n",
      "           {u'category': u'PA 582', u'id': 263803},\n",
      "           {u'category': u'PA Practice Questions 5', u'id': 117561},\n",
      "           {u'category': u'PA Practice Questions Final', u'id': 117591},\n",
      "           {u'category': u'PA School', u'id': 9857},\n",
      "           {u'category': u'PA Theory & Inquiry', u'id': 12157},\n",
      "           {u'category': u'PAC3421', u'id': 7995},\n",
      "           {u'category': u'PACE Study', u'id': 136282},\n",
      "           {u'category': u'PACs', u'id': 12468},\n",
      "           {u'category': u'PAD', u'id': 140090},\n",
      "           {u'category': u'PAD 500 Assignment 1 Public Administration The Good',\n",
      "            u'id': 248167},\n",
      "           {u'category': u'PAD 520', u'id': 266638},\n",
      "           {u'category': u\"PAD 520 ALL WEEK DQ'S\", u'id': 266732},\n",
      "           {u'category': u'PAD 520 WEEK 10 ASSIGNMENT 5', u'id': 266727},\n",
      "           {u'category': u'PAD 520 WEEK 3 ASSIGNMENT 1', u'id': 266731},\n",
      "           {u'category': u'PAD 520 WEEK 5 ASSIGNMENT 2', u'id': 266730},\n",
      "           {u'category': u'PAD 520 WEEK 7 ASSIGNMENT 3', u'id': 266729},\n",
      "           {u'category': u'PAD 520 WEEK 8 ASSIGNMENT 4', u'id': 266728},\n",
      "           {u'category': u'PAD 540', u'id': 266656},\n",
      "           {u'category': u'PAD 540 COMPLETE COURSE', u'id': 266657},\n",
      "           {u'category': u'PAD 540 WEEK 2 ASSIGNMENT 1 POSITION PAPER',\n",
      "            u'id': 266665},\n",
      "           {u'category': u'PAD 540 WEEK 3 DISCUSSION', u'id': 266664},\n",
      "           {u'category': u'PAD 540 WEEK 4 ASSIGNMENT 2', u'id': 266663},\n",
      "           {u'category': u'PAD 540 Week 4 Discussion', u'id': 266662},\n",
      "           {u'category': u'PAD 540 Week 5 Disc', u'id': 266661},\n",
      "           {u'category': u'PAD 540 Week 6', u'id': 266660},\n",
      "           {u'category': u'PAD 540 Week 6 Discussion', u'id': 266659},\n",
      "           {u'category': u'PAD 540 Week 7 discussion', u'id': 266658}],\n",
      " u'data_type': u'data',\n",
      " u'message': u'Success'}\n"
     ]
    }
   ],
   "source": [
    "# Look at content\n",
    "pprint(eval(r.content.replace('false', 'False')))"
   ]
  },
  {
   "cell_type": "code",
   "execution_count": null,
   "metadata": {
    "collapsed": true
   },
   "outputs": [],
   "source": []
  },
  {
   "cell_type": "code",
   "execution_count": null,
   "metadata": {
    "collapsed": true
   },
   "outputs": [],
   "source": []
  },
  {
   "cell_type": "code",
   "execution_count": 31,
   "metadata": {
    "collapsed": false
   },
   "outputs": [
    {
     "data": {
      "text/plain": [
       "200"
      ]
     },
     "execution_count": 31,
     "metadata": {},
     "output_type": "execute_result"
    }
   ],
   "source": [
    "# # bsf hack doesn't auth\n",
    "\n",
    "# import base64\n",
    "# base64_key = base64.b64encode(api_key + ':' + secret_key)\n",
    "# url_base = 'https://www.coursehero.com/api/?'\n",
    "# url_base64 = url_base + base64_key\n",
    "# r = requests.get(url_base64)\n",
    "# r.status_code\n",
    "# # r.content\n",
    "\n",
    "# r.text # Not correct "
   ]
  },
  {
   "cell_type": "code",
   "execution_count": 32,
   "metadata": {
    "collapsed": false
   },
   "outputs": [
    {
     "data": {
      "text/plain": [
       "u'<!DOCTYPE html>\\r\\n<!--[if lt IE 9 ]>\\r\\n<html class=\"ltie9\" lang=\"en\" xmlns=\"http://www.w3.org/1999/xhtml\" xmlns:nitro=\"http://www.bunchball.com/nitro\">\\r\\n<![endif]-->\\r\\n<html lang=\"en\" xmlns=\"http://www.w3.org/1999/xhtml\" xmlns:nitro=\"http://www.bunchball.com/nitro\">\\r\\n<head>\\r\\n    \\r\\n    <script src=\"//cdn.optimizely.com/js/2642930221.js\"></script>\\r\\n    \\r\\n\\t<!--[if lt IE 9]>\\r\\n\\t<script type=\"text/javascript\">\\r\\n\\t\\twindow.location = \"https://\" + location.host + \"/upgrade_browser.php\";\\r\\n\\t</script>\\r\\n\\t<![endif]-->\\r\\n\\t\\t\\t<base href=\"https://www.coursehero.com/\" />\\t\\t\\r\\n\\t\\t<meta http-equiv=\"Content-Type\" content=\"text/html; charset=utf-8\" />\\r\\n\\t\\t\\t\\t<meta property=\"og:image\" content=\"https://www.coursehero.com/assets/img/coursehero_logo_600x600.png\" />\\r\\n\\t\\t\\t\\t\\t\\t<meta property=\"og:description\" content=\"The Course Hero API is a RESTful API that allows an application to access Course Hero&#039;s online features and data.\" />\\r\\n\\t\\r\\n\\t<meta name=\"apple-itunes-app\" content=\"app-id=922208952\">\\r\\n\\t\\t\\r\\n\\t\\t\\t<meta name=\"description\" content=\"The Course Hero API is a RESTful API that allows an application to access Course Hero&#039;s online features and data.\" />\\r\\n\\t\\r\\n\\t\\r\\n\\t<link href=\\'https://fonts.googleapis.com/css?family=Open+Sans:400italic,400,600%7CRoboto+Slab:400,300\\' rel=\\'stylesheet\\' type=\\'text/css\\' />\\r\\n\\r\\n\\t<link href=\"//cdnjs.cloudflare.com/ajax/libs/font-awesome/4.2.0/css/font-awesome.css\" rel=\\'stylesheet\\' type=\\'text/css\\'/>\\r\\n\\r\\n\\t\\t\\t<meta http-equiv=\"X-UA-Compatible\" content=\"IE=edge,chrome=1\" /><script type=\"text/javascript\">(window.NREUM||(NREUM={})).loader_config={xpid:\"Ug8CUVVbGwcCV1ZVBgc=\"};window.NREUM||(NREUM={}),__nr_require=function(t,e,n){function r(n){if(!e[n]){var o=e[n]={exports:{}};t[n][0].call(o.exports,function(e){var o=t[n][1][e];return r(o||e)},o,o.exports)}return e[n].exports}if(\"function\"==typeof __nr_require)return __nr_require;for(var o=0;o<n.length;o++)r(n[o]);return r}({QJf3ax:[function(t,e){function n(t){function e(e,n,a){t&&t(e,n,a),a||(a={});for(var c=s(e),f=c.length,u=i(a,o,r),d=0;f>d;d++)c[d].apply(u,n);return u}function a(t,e){f[t]=s(t).concat(e)}function s(t){return f[t]||[]}function c(){return n(e)}var f={};return{on:a,emit:e,create:c,listeners:s,_events:f}}function r(){return{}}var o=\"nr@context\",i=t(\"gos\");e.exports=n()},{gos:\"7eSDFh\"}],ee:[function(t,e){e.exports=t(\"QJf3ax\")},{}],3:[function(t){function e(t){try{i.console&&console.log(t)}catch(e){}}var n,r=t(\"ee\"),o=t(1),i={};try{n=localStorage.getItem(\"__nr_flags\").split(\",\"),console&&\"function\"==typeof console.log&&(i.console=!0,-1!==n.indexOf(\"dev\")&&(i.dev=!0),-1!==n.indexOf(\"nr_dev\")&&(i.nrDev=!0))}catch(a){}i.nrDev&&r.on(\"internal-error\",function(t){e(t.stack)}),i.dev&&r.on(\"fn-err\",function(t,n,r){e(r.stack)}),i.dev&&(e(\"NR AGENT IN DEVELOPMENT MODE\"),e(\"flags: \"+o(i,function(t){return t}).join(\", \")))},{1:24,ee:\"QJf3ax\"}],4:[function(t){function e(t,e,n,i,s){try{c?c-=1:r(\"err\",[s||new UncaughtException(t,e,n)])}catch(f){try{r(\"ierr\",[f,(new Date).getTime(),!0])}catch(u){}}return\"function\"==typeof a?a.apply(this,o(arguments)):!1}function UncaughtException(t,e,n){this.message=t||\"Uncaught error with no additional information\",this.sourceURL=e,this.line=n}function n(t){r(\"err\",[t,(new Date).getTime()])}var r=t(\"handle\"),o=t(6),i=t(\"ee\"),a=window.onerror,s=!1,c=0;t(\"loader\").features.err=!0,t(5),window.onerror=e;try{throw new Error}catch(f){\"stack\"in f&&(t(1),t(2),\"addEventListener\"in window&&t(3),window.XMLHttpRequest&&XMLHttpRequest.prototype&&XMLHttpRequest.prototype.addEventListener&&window.XMLHttpRequest&&XMLHttpRequest.prototype&&XMLHttpRequest.prototype.addEventListener&&!/CriOS/.test(navigator.userAgent)&&t(4),s=!0)}i.on(\"fn-start\",function(){s&&(c+=1)}),i.on(\"fn-err\",function(t,e,r){s&&(this.thrown=!0,n(r))}),i.on(\"fn-end\",function(){s&&!this.thrown&&c>0&&(c-=1)}),i.on(\"internal-error\",function(t){r(\"ierr\",[t,(new Date).getTime(),!0])})},{1:11,2:10,3:8,4:12,5:3,6:25,ee:\"QJf3ax\",handle:\"D5DuLP\",loader:\"G9z0Bl\"}],5:[function(t){if(window.addEventListener){var e=t(\"handle\"),n=t(\"ee\");t(1),window.addEventListener(\"click\",function(){e(\"inc\",[\"ck\"])},!1),window.addEventListener(\"hashchange\",function(){e(\"inc\",[\"hc\"])},!1),n.on(\"pushState-start\",function(){e(\"inc\",[\"ps\"])})}},{1:9,ee:\"QJf3ax\",handle:\"D5DuLP\"}],6:[function(t){t(\"loader\").features.ins=!0},{loader:\"G9z0Bl\"}],7:[function(t){function e(){}if(window.performance&&window.performance.timing&&window.performance.getEntriesByType){var n=t(\"ee\"),r=t(\"handle\"),o=t(1),i=t(2);t(\"loader\").features.stn=!0,t(3);var a=Event;n.on(\"fn-start\",function(t){var e=t[0];e instanceof a&&(this.bstStart=Date.now())}),n.on(\"fn-end\",function(t,e){var n=t[0];n instanceof a&&r(\"bst\",[n,e,this.bstStart,Date.now()])}),o.on(\"fn-start\",function(t,e,n){this.bstStart=Date.now(),this.bstType=n}),o.on(\"fn-end\",function(t,e){r(\"bstTimer\",[e,this.bstStart,Date.now(),this.bstType])}),i.on(\"fn-start\",function(){this.bstStart=Date.now()}),i.on(\"fn-end\",function(t,e){r(\"bstTimer\",[e,this.bstStart,Date.now(),\"requestAnimationFrame\"])}),n.on(\"pushState-start\",function(){this.time=Date.now(),this.startPath=location.pathname+location.hash}),n.on(\"pushState-end\",function(){r(\"bstHist\",[location.pathname+location.hash,this.startPath,this.time])}),\"addEventListener\"in window.performance&&(window.performance.addEventListener(\"webkitresourcetimingbufferfull\",function(){r(\"bstResource\",[window.performance.getEntriesByType(\"resource\")]),window.performance.webkitClearResourceTimings()},!1),window.performance.addEventListener(\"resourcetimingbufferfull\",function(){r(\"bstResource\",[window.performance.getEntriesByType(\"resource\")]),window.performance.clearResourceTimings()},!1)),document.addEventListener(\"scroll\",e,!1),document.addEventListener(\"keypress\",e,!1),document.addEventListener(\"click\",e,!1)}},{1:11,2:10,3:9,ee:\"QJf3ax\",handle:\"D5DuLP\",loader:\"G9z0Bl\"}],8:[function(t,e){function n(t){i.inPlace(t,[\"addEventListener\",\"removeEventListener\"],\"-\",r)}function r(t){return t[1]}var o=t(\"ee\").create(),i=t(1)(o),a=t(\"gos\");if(e.exports=o,n(window),\"getPrototypeOf\"in Object){for(var s=document;s&&!s.hasOwnProperty(\"addEventListener\");)s=Object.getPrototypeOf(s);s&&n(s);for(var c=XMLHttpRequest.prototype;c&&!c.hasOwnProperty(\"addEventListener\");)c=Object.getPrototypeOf(c);c&&n(c)}else XMLHttpRequest.prototype.hasOwnProperty(\"addEventListener\")&&n(XMLHttpRequest.prototype);o.on(\"addEventListener-start\",function(t,e){function n(){return s}if(t[1]){var r=t[1];if(\"function\"==typeof r){var s=a(r,\"nr@wrapped\",function(){return i(r,\"fn-\",n,r.name||\"anonymous\")});this.wrapped=t[1]=s,o.emit(\"initEventContext\",[t,e],this.wrapped)}else\"function\"==typeof r.handleEvent&&i.inPlace(r,[\"handleEvent\"],\"fn-\")}}),o.on(\"removeEventListener-start\",function(t){var e=this.wrapped;e&&(t[1]=e)})},{1:26,ee:\"QJf3ax\",gos:\"7eSDFh\"}],9:[function(t,e){var n=t(\"ee\").create(),r=t(1)(n);e.exports=n,r.inPlace(window.history,[\"pushState\",\"replaceState\"],\"-\")},{1:26,ee:\"QJf3ax\"}],10:[function(t,e){var n=t(\"ee\").create(),r=t(1)(n);e.exports=n,r.inPlace(window,[\"requestAnimationFrame\",\"mozRequestAnimationFrame\",\"webkitRequestAnimationFrame\",\"msRequestAnimationFrame\"],\"raf-\"),n.on(\"raf-start\",function(t){t[0]=r(t[0],\"fn-\")})},{1:26,ee:\"QJf3ax\"}],11:[function(t,e){function n(t,e,n){t[0]=i(t[0],\"fn-\",null,n)}function r(t,e,n){function r(){return a}this.ctx={};var a={\"nr@context\":this.ctx};o.emit(\"initTimerContext\",[t,n],a),t[0]=i(t[0],\"fn-\",r,n)}var o=t(\"ee\").create(),i=t(1)(o);e.exports=o,i.inPlace(window,[\"setTimeout\",\"setImmediate\"],\"setTimer-\"),i.inPlace(window,[\"setInterval\"],\"setInterval-\"),i.inPlace(window,[\"clearTimeout\",\"clearImmediate\"],\"clearTimeout-\"),o.on(\"setInterval-start\",n),o.on(\"setTimer-start\",r)},{1:26,ee:\"QJf3ax\"}],12:[function(t,e){function n(){f.inPlace(this,p,\"fn-\",o)}function r(t,e){f.inPlace(e,[\"onreadystatechange\"],\"fn-\")}function o(t,e){return e}function i(t,e){for(var n in t)e[n]=t[n];return e}var a=t(\"ee\").create(),s=t(1),c=t(2),f=c(a),u=c(s),d=window.XMLHttpRequest,p=[\"onload\",\"onerror\",\"onabort\",\"onloadstart\",\"onloadend\",\"onprogress\",\"ontimeout\"];e.exports=a,window.XMLHttpRequest=function(t){var e=new d(t);try{a.emit(\"new-xhr\",[],e),e.hasOwnProperty(\"addEventListener\")&&u.inPlace(e,[\"addEventListener\",\"removeEventListener\"],\"-\",o),e.addEventListener(\"readystatechange\",n,!1)}catch(r){try{a.emit(\"internal-error\",[r])}catch(i){}}return e},i(d,XMLHttpRequest),XMLHttpRequest.prototype=d.prototype,f.inPlace(XMLHttpRequest.prototype,[\"open\",\"send\"],\"-xhr-\",o),a.on(\"send-xhr-start\",r),a.on(\"open-xhr-start\",r)},{1:8,2:26,ee:\"QJf3ax\"}],13:[function(t){function e(t){var e=this.params,r=this.metrics;if(!this.ended){this.ended=!0;for(var i=0;c>i;i++)t.removeEventListener(s[i],this.listener,!1);if(!e.aborted){if(r.duration=(new Date).getTime()-this.startTime,4===t.readyState){e.status=t.status;var a=t.responseType,f=\"arraybuffer\"===a||\"blob\"===a||\"json\"===a?t.response:t.responseText,u=n(f);if(u&&(r.rxSize=u),this.sameOrigin){var d=t.getResponseHeader(\"X-NewRelic-App-Data\");d&&(e.cat=d.split(\", \").pop())}}else e.status=0;r.cbTime=this.cbTime,o(\"xhr\",[e,r,this.startTime])}}}function n(t){if(\"string\"==typeof t&&t.length)return t.length;if(\"object\"!=typeof t)return void 0;if(\"undefined\"!=typeof ArrayBuffer&&t instanceof ArrayBuffer&&t.byteLength)return t.byteLength;if(\"undefined\"!=typeof Blob&&t instanceof Blob&&t.size)return t.size;if(\"undefined\"!=typeof FormData&&t instanceof FormData)return void 0;try{return JSON.stringify(t).length}catch(e){return void 0}}function r(t,e){var n=i(e),r=t.params;r.host=n.hostname+\":\"+n.port,r.pathname=n.pathname,t.sameOrigin=n.sameOrigin}if(window.XMLHttpRequest&&XMLHttpRequest.prototype&&XMLHttpRequest.prototype.addEventListener&&!/CriOS/.test(navigator.userAgent)){t(\"loader\").features.xhr=!0;var o=t(\"handle\"),i=t(2),a=t(\"ee\"),s=[\"load\",\"error\",\"abort\",\"timeout\"],c=s.length,f=t(1),u=window.XMLHttpRequest;t(4),t(3),a.on(\"new-xhr\",function(){this.totalCbs=0,this.called=0,this.cbTime=0,this.end=e,this.ended=!1,this.xhrGuids={}}),a.on(\"open-xhr-start\",function(t){this.params={method:t[0]},r(this,t[1]),this.metrics={}}),a.on(\"open-xhr-end\",function(t,e){\"loader_config\"in NREUM&&\"xpid\"in NREUM.loader_config&&this.sameOrigin&&e.setRequestHeader(\"X-NewRelic-ID\",NREUM.loader_config.xpid)}),a.on(\"send-xhr-start\",function(t,e){var r=this.metrics,o=t[0],i=this;if(r&&o){var f=n(o);f&&(r.txSize=f)}this.startTime=(new Date).getTime(),this.listener=function(t){try{\"abort\"===t.type&&(i.params.aborted=!0),(\"load\"!==t.type||i.called===i.totalCbs&&(i.onloadCalled||\"function\"!=typeof e.onload))&&i.end(e)}catch(n){try{a.emit(\"internal-error\",[n])}catch(r){}}};for(var u=0;c>u;u++)e.addEventListener(s[u],this.listener,!1)}),a.on(\"xhr-cb-time\",function(t,e,n){this.cbTime+=t,e?this.onloadCalled=!0:this.called+=1,this.called!==this.totalCbs||!this.onloadCalled&&\"function\"==typeof n.onload||this.end(n)}),a.on(\"xhr-load-added\",function(t,e){var n=\"\"+f(t)+!!e;this.xhrGuids&&!this.xhrGuids[n]&&(this.xhrGuids[n]=!0,this.totalCbs+=1)}),a.on(\"xhr-load-removed\",function(t,e){var n=\"\"+f(t)+!!e;this.xhrGuids&&this.xhrGuids[n]&&(delete this.xhrGuids[n],this.totalCbs-=1)}),a.on(\"addEventListener-end\",function(t,e){e instanceof u&&\"load\"===t[0]&&a.emit(\"xhr-load-added\",[t[1],t[2]],e)}),a.on(\"removeEventListener-end\",function(t,e){e instanceof u&&\"load\"===t[0]&&a.emit(\"xhr-load-removed\",[t[1],t[2]],e)}),a.on(\"fn-start\",function(t,e,n){e instanceof u&&(\"onload\"===n&&(this.onload=!0),(\"load\"===(t[0]&&t[0].type)||this.onload)&&(this.xhrCbStart=(new Date).getTime()))}),a.on(\"fn-end\",function(t,e){this.xhrCbStart&&a.emit(\"xhr-cb-time\",[(new Date).getTime()-this.xhrCbStart,this.onload,e],e)})}},{1:\"XL7HBI\",2:14,3:12,4:8,ee:\"QJf3ax\",handle:\"D5DuLP\",loader:\"G9z0Bl\"}],14:[function(t,e){e.exports=function(t){var e=document.createElement(\"a\"),n=window.location,r={};e.href=t,r.port=e.port;var o=e.href.split(\"://\");return!r.port&&o[1]&&(r.port=o[1].split(\"/\")[0].split(\"@\").pop().split(\":\")[1]),r.port&&\"0\"!==r.port||(r.port=\"https\"===o[0]?\"443\":\"80\"),r.hostname=e.hostname||n.hostname,r.pathname=e.pathname,r.protocol=o[0],\"/\"!==r.pathname.charAt(0)&&(r.pathname=\"/\"+r.pathname),r.sameOrigin=!e.hostname||e.hostname===document.domain&&e.port===n.port&&e.protocol===n.protocol,r}},{}],15:[function(t,e){function n(t){return function(){r(t,[(new Date).getTime()].concat(i(arguments)))}}var r=t(\"handle\"),o=t(1),i=t(2);\"undefined\"==typeof window.newrelic&&(newrelic=window.NREUM);var a=[\"setPageViewName\",\"addPageAction\",\"setCustomAttribute\",\"finished\",\"addToTrace\",\"inlineHit\",\"noticeError\"];o(a,function(t,e){window.NREUM[e]=n(\"api-\"+e)}),e.exports=window.NREUM},{1:24,2:25,handle:\"D5DuLP\"}],gos:[function(t,e){e.exports=t(\"7eSDFh\")},{}],\"7eSDFh\":[function(t,e){function n(t,e,n){if(r.call(t,e))return t[e];var o=n();if(Object.defineProperty&&Object.keys)try{return Object.defineProperty(t,e,{value:o,writable:!0,enumerable:!1}),o}catch(i){}return t[e]=o,o}var r=Object.prototype.hasOwnProperty;e.exports=n},{}],D5DuLP:[function(t,e){function n(t,e,n){return r.listeners(t).length?r.emit(t,e,n):void(r.q&&(r.q[t]||(r.q[t]=[]),r.q[t].push(e)))}var r=t(\"ee\").create();e.exports=n,n.ee=r,r.q={}},{ee:\"QJf3ax\"}],handle:[function(t,e){e.exports=t(\"D5DuLP\")},{}],XL7HBI:[function(t,e){function n(t){var e=typeof t;return!t||\"object\"!==e&&\"function\"!==e?-1:t===window?0:i(t,o,function(){return r++})}var r=1,o=\"nr@id\",i=t(\"gos\");e.exports=n},{gos:\"7eSDFh\"}],id:[function(t,e){e.exports=t(\"XL7HBI\")},{}],G9z0Bl:[function(t,e){function n(){var t=p.info=NREUM.info,e=f.getElementsByTagName(\"script\")[0];if(t&&t.licenseKey&&t.applicationID&&e){s(d,function(e,n){e in t||(t[e]=n)});var n=\"https\"===u.split(\":\")[0]||t.sslForHttp;p.proto=n?\"https://\":\"http://\",a(\"mark\",[\"onload\",i()]);var r=f.createElement(\"script\");r.src=p.proto+t.agent,e.parentNode.insertBefore(r,e)}}function r(){\"complete\"===f.readyState&&o()}function o(){a(\"mark\",[\"domContent\",i()])}function i(){return(new Date).getTime()}var a=t(\"handle\"),s=t(1),c=window,f=c.document;t(2);var u=(\"\"+location).split(\"?\")[0],d={beacon:\"bam.nr-data.net\",errorBeacon:\"bam.nr-data.net\",agent:\"js-agent.newrelic.com/nr-768.min.js\"},p=e.exports={offset:i(),origin:u,features:{}};f.addEventListener?(f.addEventListener(\"DOMContentLoaded\",o,!1),c.addEventListener(\"load\",n,!1)):(f.attachEvent(\"onreadystatechange\",r),c.attachEvent(\"onload\",n)),a(\"mark\",[\"firstbyte\",i()])},{1:24,2:15,handle:\"D5DuLP\"}],loader:[function(t,e){e.exports=t(\"G9z0Bl\")},{}],24:[function(t,e){function n(t,e){var n=[],o=\"\",i=0;for(o in t)r.call(t,o)&&(n[i]=e(o,t[o]),i+=1);return n}var r=Object.prototype.hasOwnProperty;e.exports=n},{}],25:[function(t,e){function n(t,e,n){e||(e=0),\"undefined\"==typeof n&&(n=t?t.length:0);for(var r=-1,o=n-e||0,i=Array(0>o?0:o);++r<o;)i[r]=t[e+r];return i}e.exports=n},{}],26:[function(t,e){function n(t){return!(t&&\"function\"==typeof t&&t.apply&&!t[i])}var r=t(\"ee\"),o=t(1),i=\"nr@original\",a=Object.prototype.hasOwnProperty;e.exports=function(t){function e(t,e,r,a){function nrWrapper(){var n,i,s,f;try{i=this,n=o(arguments),s=r&&r(n,i)||{}}catch(d){u([d,\"\",[n,i,a],s])}c(e+\"start\",[n,i,a],s);try{return f=t.apply(i,n)}catch(p){throw c(e+\"err\",[n,i,p],s),p}finally{c(e+\"end\",[n,i,f],s)}}return n(t)?t:(e||(e=\"\"),nrWrapper[i]=t,f(t,nrWrapper),nrWrapper)}function s(t,r,o,i){o||(o=\"\");var a,s,c,f=\"-\"===o.charAt(0);for(c=0;c<r.length;c++)s=r[c],a=t[s],n(a)||(t[s]=e(a,f?s+o:o,i,s))}function c(e,n,r){try{t.emit(e,n,r)}catch(o){u([o,e,n,r])}}function f(t,e){if(Object.defineProperty&&Object.keys)try{var n=Object.keys(t);return n.forEach(function(n){Object.defineProperty(e,n,{get:function(){return t[n]},set:function(e){return t[n]=e,e}})}),e}catch(r){u([r])}for(var o in t)a.call(t,o)&&(e[o]=t[o]);return e}function u(e){try{t.emit(\"internal-error\",e)}catch(n){}}return t||(t=r),e.inPlace=s,e.flag=i,e}},{1:25,ee:\"QJf3ax\"}]},{},[\"G9z0Bl\",4,13,7,6,5]);</script>\\r\\n\\t\\t<meta name=\"viewport\" content=\"width=device-width, initial-scale=1, maximum-scale=1\" />\\r\\n\\t\\r\\n\\t\\r\\n\\t\\r\\n                        <script src=\"/javascript/jquery-1.7.2.min.js\"></script>\\r\\n\\t\\r\\n\\t\\r\\n\\t\\t\\r\\n\\t\\r\\n\\t<!--[if IE 8]>\\r\\n\\t<![endif]-->\\r\\n\\t\\t\\r\\n\\t\\t<link rel=\"shortcut icon\" href=\"/chfavicon.ico\" type=\"image/x-icon\" />\\r\\n\\t\\r\\n\\t\\r\\n\\t\\r\\n\\t \\r\\n\\t\\t\\t<title>API - Course Hero</title>\\r\\n\\t\\t<meta property=\"og:title\" content=\"API - Course Hero\" />\\r\\n\\t        \\r\\n                \\r\\n        <script>/*DO NOT ALTER *** CourseHero.com*/(function(e){var t=\"1909\",n=document,r,i,s={http:\"http://cdn.mplxtms.com/s/MasterTMS.min.js\",https:\"https://secure-cdn.mplxtms.com/s/MasterTMS.min.js\"},o=s[/\\\\w+/.exec(window.location.protocol)[0]];i=n.createElement(\"script\"),i.type=\"text/javascript\",i.async=!0,i.src=o+\"#\"+t,r=n.getElementsByTagName(\"script\")[0],r.parentNode.insertBefore(i,r),i.readyState?i.onreadystatechange=function(){if(i.readyState===\"loaded\"||i.readyState===\"complete\")i.onreadystatechange=null}:i.onload=function(){try{e()}catch(t){}}})(function(){});</script>\\r\\n        \\r\\n\\n<link rel=\"stylesheet\" href=\"/min/?f=/assets/css/sassitecture/master/header.css,/assets/css/sassitecture/master/footer.css,/assets/css/sassitecture/master/banner.css,/assets/css/common/search/horizontal_search.css,/css/v2/ch-master-style.css,/assets/css/vendor/jquery.typeahead.css,/css/v2/jquery-styles/jquery.ui.css,/css/v2/ch-api.css,/css/prettify/prettify.css,/css/v2/ch-common-sidebar-widgets.css\" type=\"text/css\" media=\"screen\" charset=\"utf-8\">\\n<script src=\"/min/?f=/javascript/error_logging.js,/javascript/tracker_pageview.js,/javascript/header.js,/javascript/ajax_load.js,/javascript/selectivizr-min.js\" type=\"text/javascript\" charset=\"utf-8\"></script>\\n</head>\\r\\n\\n\\r\\n<body>\\r\\n<!-- Google Tag Manager -->\\r\\n    \\r\\n    <script src=\"/assets/js/header/GoogleTagManagerData.js\"></script>\\r\\n    <noscript><iframe src=\"//www.googletagmanager.com/ns.html?id=GTM-DK9F\"\\r\\n                      height=\"0\" width=\"0\" style=\"display:none;visibility:hidden\"></iframe></noscript>\\r\\n    <script>(function(w,d,s,l,i){w[l]=w[l]||[];w[l].push({\\'gtm.start\\':\\r\\n    new Date().getTime(),event:\\'gtm.js\\'});var f=d.getElementsByTagName(s)[0],\\r\\n    j=d.createElement(s),dl=l!=\\'dataLayer\\'?\\'&l=\\'+l:\\'\\';j.async=true;j.src=\\r\\n    \\'//www.googletagmanager.com/gtm.js?id=\\'+i+dl;f.parentNode.insertBefore(j,f);\\r\\n    })(window,document,\\'script\\',\\'dataLayer\\',\\'GTM-DK9F\\');</script>\\r\\n    \\r\\n<!-- End Google Tag Manager -->\\r\\n\\r\\n<!--Mobile App Banner -->\\r\\n<!-- End Banner -->\\r\\n\\r\\n<!-- Mixpanel Tracking -->\\r\\n<script src=\\'/assets/js/analytics/UserBehaviorEventTracking.js\\'></script>\\r\\n\\r\\n<script type=\"text/javascript\">\\r\\n\\tvar __basic = false;\\r\\n\\tappId = 126130834105126;\\r\\n</script>\\r\\n\\r\\n<script>\\r\\n\\r\\n(function(d, s, id) {\\r\\n    var js, fjs = d.getElementsByTagName(s)[0];\\r\\n    if (d.getElementById(id)) return;\\r\\n    js = d.createElement(s); js.id = id;\\r\\n    js.src = \"//connect.facebook.net/en_US/sdk.js#xfbml=1&version=v2.3\";\\r\\n    fjs.parentNode.insertBefore(js, fjs);\\r\\n}(document, \\'script\\', \\'facebook-jssdk\\'));\\r\\n  \\r\\n</script>\\r\\n\\r\\n\\r\\n\\r\\n<script type=\"text/javascript\">\\r\\nvar bitly_user = \"coursehero\";\\r\\nvar bitly_api = \"R_2665139c44607341a6a6452202a58cab\";\\r\\n</script>\\r\\n\\r\\n\\r\\n\\t\\t\\t\\t\\t\\t    \\n<header id=\"ch-header\">\\n    <div class=\"ch-header_primary-nav_wrapper\">\\n        <nav class=\"ch-header_primary-nav_container\">\\n            <a href=\"/\" id=\"ch-header_logo\"><img src=\"/assets/img/coursehero-logo.svg\" alt=\"Course Hero Logo\" /></a>\\n            \\n                        <a href=\"#\" id=\"ch-header_mobile-nav_action\"><i class=\"fa fa-bars\"></i></a>\\n            <a href=\"#\" id=\"ch-header_mobile-search_action\"><i class=\"fa fa-search\"></i></a>\\n            <div id=\"ch-header_product-user-nav_container\">\\n                <ul id=\"ch-header_product-nav\" class=\"ch-header_primary-nav_group\">\\n                                                                                                                    <li  class=\"ch-header_primary-nav_list-item\">\\n                                <a href=\"/study-materials/\">Study Resources <i class=\"fa fa-caret-down\"></i></a>\\n                                                                    \\n                                    <ul class=\"ch-header_primary-subnav_group\">\\n                                                                                                                                <li class=\"ch-header_primary-subnav_list-item\">\\n                                                <a href=\"/study-materials/\">By School</a>\\n                                            </li>\\n                                                                                        \\n                                                                                                                                <li class=\"ch-header_primary-subnav_list-item\">\\n                                                <a href=\"/subjects/\">By Subject</a>\\n                                            </li>\\n                                                                                        \\n                                                                                                                                <li class=\"ch-header_primary-subnav_list-item\">\\n                                                <a href=\"/standardized-tests/\">By Standardized Test</a>\\n                                            </li>\\n                                                                                        \\n                                                                                                                                <li class=\"ch-header_primary-subnav_list-item\">\\n                                                <a href=\"/books/\">By Book</a>\\n                                            </li>\\n                                                                                        \\n                                                                                                                                <li class=\"ch-header_primary-subnav_list-item\">\\n                                                <a href=\"/uploads.php\">Upload Documents</a>\\n                                            </li>\\n                                                                                        \\n                                                                            </ul>\\n                                                            </li>\\n                                                                                                <li  class=\"ch-header_primary-nav_list-item\">\\n                                <a href=\"/tutors/homework-help/\">Tutors <i class=\"fa fa-caret-down\"></i></a>\\n                                                                    \\n                                    <ul class=\"ch-header_primary-subnav_group\">\\n                                                                                                                                <li class=\"ch-header_primary-subnav_list-item\">\\n                                                <a href=\"/tutors/homework-help/\">Get Homework Help</a>\\n                                            </li>\\n                                                                                        \\n                                                                                                                                \\n                                                                                                                                \\n                                                                                                                                \\n                                                                                                                                <li class=\"ch-header_primary-subnav_list-item\">\\n                                                <a href=\"/qa/expert/landing.php\">Become a Tutor</a>\\n                                            </li>\\n                                                                                        \\n                                                                                                                                <li class=\"ch-header_primary-subnav_list-item\">\\n                                                <a href=\"/qa/about_tutors.php\">About Tutors</a>\\n                                            </li>\\n                                                                                        \\n                                                                            </ul>\\n                                                            </li>\\n                                                                                                <li  class=\"ch-header_primary-nav_list-item\">\\n                                <a href=\"/flashcards/\">Flashcards <i class=\"fa fa-caret-down\"></i></a>\\n                                                                    \\n                                    <ul class=\"ch-header_primary-subnav_group\">\\n                                                                                                                                \\n                                                                                                                                <li class=\"ch-header_primary-subnav_list-item\">\\n                                                <a href=\"/flashcards/browse/\">Find Flashcards</a>\\n                                            </li>\\n                                                                                        \\n                                                                                                                                <li class=\"ch-header_primary-subnav_list-item\">\\n                                                <a href=\"/flashcards/create.php\">Create Flashcards</a>\\n                                            </li>\\n                                                                                        \\n                                                                                                                                <li class=\"ch-header_primary-subnav_list-item\">\\n                                                <a href=\"/flashcards/\">About Flashcards</a>\\n                                            </li>\\n                                                                                        \\n                                                                            </ul>\\n                                                            </li>\\n                                                                                                <li id=\"ch-header_support-nav\" class=\"ch-header_primary-nav_list-item\">\\n                                <a href=\"http://support.coursehero.com\">Support <i class=\"fa fa-caret-down\"></i></a>\\n                                                            </li>\\n                                                            </ul>\\n                <div id=\"ch-header_user-nav_group\" class=\"ch-header_primary-nav_group\">\\n                                    <ul id=\"ch-header_user-nav_group\" class=\"\">\\n                                                <li class=\"first ch-header_primary-nav_list-item\">\\n                            <a href=\"/login.php\" rel=\"nofollow\">Log-in</a>\\n                        </li>\\n                        <li id=\"ch-header_primary-nav_signup\" class=\"ch-header_primary-nav_list-item\">\\n                            <a href=\"/registerForm.php\" rel=\"nofollow\">Sign Up</a>\\n                        </li>\\n                                            </ul>\\n                            \\t</div>\\n                        </div>\\n        </nav>\\n    </div>\\n    <script src=\"/assets/js/vendor/angular.min.js\"></script>\\n    <script src=\"/javascript/common/modules/angular-ui/angular-ui.min.js\"></script>\\n    <script src=\"/assets/js/vendor/angular.ng-modules.js\"></script>\\n    <script src=\"/assets/js/vendor/ng-infinite-scroll.min.js\"></script>\\n    <script src=\"/assets/js/vendor/moment.min.js\"></script>\\n    <script src=\"/assets/js/vendor/angular-moment.min.js\"></script>\\n    <script src=\"/assets/js/vendor/jquery.typeahead.js\"></script>\\n    <script src=\"/assets/js/header/HeaderSearch.js\"></script>\\n    \\n    <script>\\n        jQuery(\"#ch-header_mobile-nav_action\").click(function(e){\\n            jQuery(\"body\").toggleClass(\"ch_mobile-nav_enabled\");\\n            jQuery(this).toggleClass(\"highlighted\");\\n            jQuery(\"#ch-header_product-user-nav_container\").toggleClass(\"show\");\\n            e.preventDefault();\\n        });\\n        jQuery(document).ready(function(){\\n            var headerSearch = new HeaderSearch();\\n            headerSearch.init();\\n        });\\n    </script>\\n            <div id=\"ch-header_secondary-nav_wrapper\" class=\"ch-header_secondary-nav_wrapper\">\\n\\t<div class=\"ch-header_secondary-nav_container\">\\n        <div id=\"ch-header_secondary-nav_search\" class=\"for-marketplace\">\\n    <form action=\"/search_result.php\" method=\"GET\" data-ng-module=\"searchServices\">\\n        <div class=\"ch_h-search-form_input_container\">\\n            <input type=\"hidden\" name=\\'header\\' value=\"v2\"/>\\n            <input type=\"hidden\" name=\\'filters_product\\' value=\"none\"/>\\n            \\n                                    <input name=\"stx\" type=\"search\" class=\"ch_h-search-form_input\" placeholder=\"Search Course Hero\"/>\\n                                <script type=\"text/javascript\">\\n                    var _HSAB = 0;\\n                </script>\\n            \\n        </div>\\n        <input type=\"submit\" value=\"Search\" class=\"ch_h-search-form-submit_button\"/>\\n    </form>\\n        </div>\\n        <ul id=\"ch-header_secondary-nav_group\" class=\"for-marketplace\">\\n            <li class=\"ch-header_secondary-nav_list-item\">\\n                <a href=\"http://support.coursehero.com/\"><i class=\"fa fa-life-ring\"></i> Support</a>\\n            </li>\\n            <li class=\"ch-header_secondary-nav_list-item\">\\n                <a href=\"/free-access/\"><i class=\"fa fa-gift\"></i> Get Free Access</a>\\n            </li>\\n            <li class=\"ch-header_secondary-nav_list-item\">\\n                <a href=\"/earn-money/\"><i class=\"fa fa-dollar\"></i> Earn Money</a>\\n            </li>\\n        </ul>\\n\\t</div>\\n</div>\\n<script>\\n    // Toggle Search bar for mobile\\n    jQuery(\"#ch-header_mobile-search_action\").click(function(e){\\n        jQuery(\"#ch-header_secondary-nav_wrapper\").slideToggle(function() {\\n            if(jQuery(\"#ch-header_secondary-nav_wrapper\").css(\\'overflow\\') === \\'hidden\\') {\\n                jQuery(\"#ch-header_secondary-nav_wrapper\").css(\\'overflow\\', \\'visible\\');\\n            } else {\\n                jQuery(\"#ch-header_secondary-nav_wrapper\").css(\\'overflow\\', \\'hidden\\');\\n            }\\n        });\\n        jQuery(this).toggleClass(\"highlighted\");\\n        e.preventDefault();\\n    });\\n</script>\\n    </header>\\n\\r\\n\\t\\t\\t\\r\\n\\r\\n<div class=\"ch-wrapper\" id=\"ch-content-wrapper\">\\r\\n\\t<div id=\"api-container\" class=\"container\">\\r\\n\\t\\t<div class=\"page-heading-wrapper\">\\r\\n\\t\\t\\t<h1 class=\"page-heading\">Course Hero API</h1>\\r\\n\\t\\t\\t<div class=\"breadcrumbs\">\\n    <div id=\"microdata-bc-0\" itemscope itemtype=\"http://data-vocabulary.org/Breadcrumb\" itemref=\"microdata-bc-1\">\\n        <a href=\"/\" itemprop=\"url\">\\n            <span itemprop=\"title\">Home</span>\\n        </a>\\n    </div>\\n            <i class=\"icon-right-open\"></i>\\n                    API\\n                    <i class=\"icon-right-open\"></i>\\n                    API Introduction\\n                <!--<i class=\"icon-right-open last-breadcrum hidden\"></i>\\n    <span class=\"last-breadcrum-span hidden\"></span>-->\\n</div>\\r\\n\\t\\t</div>\\r\\n\\t\\t<div class=\"main-content\">\\r\\n\\t\\t\\t\\r\\n\\t\\t\\t<h4>API Introduction</h2>\\r\\n\\t\\t\\t<p>The Course Hero API is a RESTful API that allows an application to access Course Hero\\'s online features and data.</p>\\r\\n\\t\\t\\t<p style=\"margin-bottom: 2px;\">To help you get started, we also provide copy and paste libraries for common platforms. </p>\\r\\n\\t\\t\\t<ul class=\"numbered-list\">\\r\\n\\t\\t\\t\\t<li><a href=\"/api/download.php#javascript\">JavaScript</a></li>\\r\\n\\t\\t\\t\\t<li><a href=\"/api/download.php#ios\">Objective-C (iOS)</a></li>\\r\\n\\t\\t\\t\\t<li>Java (Android) - Coming Soon</li>\\r\\n\\t\\t\\t</ul>\\r\\n\\r\\n\\t\\t\\t\\t\\t\\t<p>Before you can use the API you must sign up for an account and register for a <a href=\"/api/dashboard.php\">developer API key.</a></p>\\r\\n\\t\\t\\t\\r\\n\\t\\t\\t<p>You can integrate Course Hero\\'s API for any application connected to the Internet. Including websites, mobile apps and desktop applications.</p>\\r\\n\\t\\t\\t\\r\\n\\t\\t\\t<p>With your API key, you can also participate in our affiliate program. As an affiliate, Course Hero will share its premier subscription revenue from any users you refer to us. Please see the online contract for details.</p>\\r\\n\\t\\t\\t\\r\\n\\t\\t\\t<p>Calls made on behalf of a registered Course Hero user use our <a href=\"/api/authentication.php\">OAuth 2.0 implementation</a>.</p>\\r\\n\\t\\t\\t\\r\\n\\t\\t\\t<div class=\"api-concept\">\\r\\n\\t\\t\\t\\t<h4>Making Calls</h4>\\r\\n\\t\\t\\t\\t<p>Every call to the Course Hero REST API must contain either the users access token in the Authorization header of the call, or include your api key passed as a url parameter named api_key.</p>\\r\\n\\t\\t\\t\\t<p>Every call that modifies data, or retrieves a user\\'s profile, must pass along the users access token in the Authorization header of call.</p>\\r\\n\\t\\t\\t\\t<p>To get a users access token please follow the authorization of our <a href=\"/api/authentication.php\">OAuth 2.0 implementation</a>.</p>\\r\\n\\t\\t\\t\\t<p>After obtaining an access token construct your authorization header as follows:</p>\\r\\n\\t\\t\\t\\t<pre class=\"output\"><code>Authorization: Bearer ACCESS_TOKEN</code></pre>\\r\\n\\t\\t\\t</div>\\r\\n\\t\\t</div>\\r\\n\\t\\t<div class=\"sidebar-content\">\\r\\n<div class=\"page-navigation-widget-sidebar light-blue-bg sidebar-content-widgets\">\\r\\n\\t<ul>\\r\\n\\t\\t<li><a class=\"highlighted\" href=\"/api/intro.php\">API Introduction</a></li>\\r\\n\\t\\t\\t\\t\\t<li><a  href=\"/api/dashboard.php\">Register for API</a></li>\\r\\n\\t\\t\\t</ul>\\r\\n</div>\\r\\n\\r\\n<div class=\"page-navigation-widget-sidebar light-blue-bg sidebar-content-widgets\">\\r\\n\\t<h6>Documentation</h6>\\r\\n\\t<ul>\\r\\n\\t\\t<li>\\r\\n\\t\\t\\t<a  href=\"/api/authentication.php\">User Authentication</a>\\r\\n\\t\\t</li>\\r\\n\\t\\t<li>\\r\\n\\t\\t\\t<a  href=\"/api/flashcards/endpoints.php\">Flashcard API</a>\\r\\n\\t\\t\\t\\t\\t</li>\\r\\n\\t\\t<li>\\r\\n\\t\\t\\t<a  href=\"/api/affiliate.php\">Affiliate</a>\\r\\n\\t\\t</li>\\r\\n\\t</ul>\\r\\n</div>\\r\\n\\t\\t</div>\\r\\n\\t</div>\\r\\n</div>\\r\\n\\r\\n<script type=\"text/javascript\">\\r\\n\\t\\tvar token = \\'\\';\\r\\n</script>\\r\\n\\r\\n<footer id=\"ch-footer\">\\r\\n                    <div class=\"ch-trust-seals_wrapper\">\\r\\n            <div class=\"ch-trust-seals_container\">\\r\\n                <a target=\"_blank\"\\r\\n                   href=\"javascript:window.open(\\'https://trustsealinfo.websecurity.norton.com/splash?form_file=fdf/splash.fdf&dn=www.coursehero.com&lang=en\\', \\'SymantecSeal\\', \\'location=yes,status=yes,resizable=yes,scrollbars=yes,width=560,height=500\\');\"\\r\\n                   rel=\"nofollow\"\\r\\n                   class=\"ch-trust-seals_verisign-icon\">\\r\\n\\r\\n                </a>\\r\\n                <span class=\"ch-trust-seals_bbb-icon\"></span>                <div id=\"fb2f890b-c797-4871-8a9b-d0350de5fd5f\" class=\"ch-trust-seals_truste-icon\">\\r\\n                    <script type=\"text/javascript\" src=\"//privacy-policy.truste.com/privacy-seal/Course-Hero/asc?rid=fb2f890b-c797-4871-8a9b-d0350de5fd5f\">\\r\\n                    </script>\\r\\n                    <a href=\"//privacy.truste.com/privacy-seal/CourseHero/validation?rid=a50533b3-15e2-472e-a9fc-0fcdc0471ef1\"\\r\\n                                title=\"TRUSTe online privacy certification\" target=\"_blank\">\\r\\n                        <img style=\"border: none\" src=\"//privacy-policy.truste.com/privacy-seal/Course-Hero/seal?rid=a50533b3-15e2-472e-a9fc-0fcdc0471ef1\" alt=\"TRUSTe online privacy certification\"/>\\r\\n                    </a>\\r\\n                </div>\\r\\n            </div>\\r\\n        </div>\\r\\n                    <div class=\"ch-footer-links_wrapper\">\\r\\n            <ul class=\"ch-footer-links_container\" id=\"ch-footer-links_container\"></ul>\\r\\n        </div>\\r\\n        <script type=\"text/javascript\">\\r\\n            var __fList_network = true;\\r\\n            var __fList_textbook = false;\\r\\n            var __fList_concepts = true;\\r\\n        </script>\\r\\n            <div class=\"ch-copyright_wrapper\">\\r\\n            <div class=\"ch-copyright_container\">\\r\\n                <p class=\"ch-copyright_info\">\\r\\n                    Copyright \\xa9 2015. Course Hero, Inc.\\r\\n                                    </p>\\r\\n                <p class=\"ch-copyright_fyi\">Course Hero is not sponsored or endorsed by any college or university.</p>\\r\\n            </div>\\r\\n        </div>\\r\\n    </footer>\\r\\n\\r\\n\\r\\n\\r\\n\\r\\n\\r\\n\\r\\n<script type=\"text/javascript\">\\r\\n    /*\\r\\n    var dcJsHost = ((\\'https:\\' == document.location.protocol) ? \\'https://\\' : \\'http://\\');\\r\\n    document.write(unescape(\"%3Cscript src=\\'\" + dcJsHost + \"stats.g.doubleclick.net/dc.js\\' type=\\'text/javascript\\'%3E%3C/script%3E\"));\\r\\n    */\\r\\nvar gaJsHost = ((\"https:\" == document.location.protocol) ? \"https://ssl.\" : \"http://www.\");\\r\\ndocument.write(unescape(\"%3Cscript src=\\'\" + gaJsHost + \"google-analytics.com/ga.js\\' type=\\'text/javascript\\'%3E%3C/script%3E\"));\\r\\n</script>\\r\\n\\r\\n\\r\\n<script type=\"text/javascript\">\\r\\n    var recording_scrolling_text_version = false;\\r\\n    jQuery(document).ready(function(){\\r\\n        if (typeof(_gat) == \"object\") {\\r\\n            var pageTracker = _gat._createTracker(\"UA-1389869-2\");\\r\\n            if (jQuery(\".ch-document-excerpt\").length > 0) {\\r\\n                jQuery(\".ch-document-excerpt\").scroll(function () {\\r\\n                    if (!recording_scrolling_text_version) {\\r\\n                        pageTracker._trackEvent(\\'Scrolling\\', \\'ScrolledTextVersion\\', \\'UserIsScroller\\', 1);\\r\\n                        //_gaq.push([\\'_trackEvent\\', \\'Scrolling\\', \\'ScrolledTextVersion\\', \\'UserIsScroller\\', 1]);\\r\\n                        recording_scrolling_text_version = true;\\r\\n                    }\\r\\n                });\\r\\n            }\\r\\n        }\\r\\n    });\\r\\n</script>\\r\\n\\r\\n\\r\\n<script type=\"text/javascript\">\\r\\n\\r\\ntry {\\r\\n    if (utmx(\\'combination\\') != undefined && typeof(_gat) == \"object\") {\\r\\n        var l = document.location, s = l.search;\\r\\n        s = s + (s.length ? \\'&\\' : \\'?\\') + \\'combination=\\' + utmx(\\'combination\\');\\r\\n        var pageTracker = _gat._createTracker(\"UA-1389869-2\");\\r\\n        \\r\\n        pageTracker._setCustomVar(1, \"usertype\", \"visitor\", 2);\\r\\n        pageTracker._setCustomVar(2, \"conversion\", \"false\", 2);\\r\\n        \\r\\n        pageTracker._trackPageview(l.pathname + s);\\r\\n    }\\r\\n    else if (typeof(_gat) == \"object\") {\\r\\n        var pageTracker = _gat._createTracker(\"UA-1389869-2\");\\r\\n        pageTracker._initData();\\r\\n        \\r\\n        pageTracker._setCustomVar(1, \"usertype\", \"visitor\", 2);\\r\\n        pageTracker._setCustomVar(2, \"conversion\", \"false\", 2);\\r\\n        \\r\\n        pageTracker._trackPageview();\\r\\n    }\\r\\n}catch(err){\\r\\n    if (typeof(_gat) == \"object\") {\\r\\n        var pageTracker = _gat._createTracker(\"UA-1389869-2\");\\r\\n        pageTracker._initData();\\r\\n        \\r\\n        pageTracker._setCustomVar(1, \"usertype\", \"visitor\", 2);\\r\\n        pageTracker._setCustomVar(2, \"conversion\", \"false\", 2);\\r\\n        \\r\\n        pageTracker._trackPageview();\\r\\n    }\\r\\n}\\r\\n \\r\\n</script>\\r\\n<script type=\"text/javascript\">\\r\\nadroll_custom_data =  { \\r\\n }; \\r\\n\\r\\n\\r\\n\\r\\nadroll_adv_id = \"RMA4JRK3LBCRFDGPVVO45A\";\\r\\nadroll_pix_id = \"4D6DGYEGP5GENH5XDDV55J\";\\r\\n(function () {\\r\\nvar oldonload = window.onload;\\r\\nwindow.onload = function(){\\r\\n  __adroll_loaded=true;\\r\\n  var scr = document.createElement(\"script\");\\r\\n  var host = ((\"https:\" == document.location.protocol) ?\\r\\n\"https://s.adroll.com\" : \"http://a.adroll.com\");\\r\\n  scr.setAttribute(\\'async\\', \\'true\\');\\r\\n  scr.type = \"text/javascript\";\\r\\n  scr.src = host + \"/j/roundtrip.js\";\\r\\n  document.getElementsByTagName(\"head\")[0].appendChild(scr);\\r\\n  if(oldonload){oldonload()}};\\r\\n}());\\r\\n\\r\\n</script>\\r\\n\\r\\n\\r\\n\\r\\n<script type=\\'text/javascript\\' src=\\'https://www.coursehero.com/sym-assets/js/85e02e2-b2996d8.js\\'>\\n</script>\\n\\r\\n<script src=\"/javascript/common/select2.js\"></script>\\r\\n<script src=\"/assets/js/ch.global.js\"></script>\\r\\n\\r\\n<!-- BEGIN: Marin Software Tracking Script (Landing Page) -->\\r\\n\\r\\n    <script type=\\'text/javascript\\'>\\r\\n        var _mTrack = _mTrack || [];\\r\\n        _mTrack.push([\\'trackPage\\']);\\r\\n\\r\\n        (function() {\\r\\n            var mClientId = \\'518m4q45325\\';\\r\\n            var mProto = ((\\'https:\\' == document.location.protocol) ? \\'https://\\' : \\'http://\\');\\r\\n            var mHost = \\'tracker.marinsm.com\\';\\r\\n\\r\\n            var mt = document.createElement(\\'script\\'); mt.type = \\'text/javascript\\'; mt.async = true; mt.src = mProto + mHost + \\'/\\' + \\'tracker/\\' + \\'async/\\' + mClientId + \\'.js\\';\\r\\n            var fscr = document.getElementsByTagName(\\'script\\')[0]; fscr.parentNode.insertBefore(mt, fscr);\\r\\n        })();\\r\\n    </script>\\r\\n\\r\\n<noscript>\\r\\n    <img width=\"1\" height=\"1\" src=\"https://tracker.marinsm.com/tp?act=1&cid=518m4q45325&script=no\" />\\r\\n</noscript>\\r\\n<!-- END: Copyright Marin Software -->\\r\\n\\r\\n<!-- Google Code for Remarketing Tag -->\\r\\n<!--------------------------------------------------\\r\\nRemarketing tags may not be associated with personally identifiable information or placed on pages related to sensitive categories. See more information and instructions on how to setup the tag on: http://google.com/ads/remarketingsetup\\r\\n--------------------------------------------------->\\r\\n\\r\\n    <script type=\"text/javascript\">\\r\\n        /* <![CDATA[ */\\r\\n        var google_conversion_id = 1029779469;\\r\\n        var google_custom_params = window.google_tag_params;\\r\\n        var google_remarketing_only = true;\\r\\n        /* ]]> */\\r\\n    </script>\\r\\n\\r\\n<script type=\"text/javascript\" src=\"//www.googleadservices.com/pagead/conversion.js\">\\r\\n</script>\\r\\n<noscript>\\r\\n    <div style=\"display:inline;\">\\r\\n        <img height=\"1\" width=\"1\" style=\"border-style:none;\" alt=\"\" src=\"//googleads.g.doubleclick.net/pagead/viewthroughconversion/1029779469/?value=0&amp;guid=ON&amp;script=0\"/>\\r\\n    </div>\\r\\n</noscript>\\r\\n\\r\\n\\r\\n\\r\\n\\r\\n    <script type=\"text/javascript\">\\r\\n        setTimeout(function(){var a=document.createElement(\"script\");\\r\\n            var b=document.getElementsByTagName(\"script\")[0];\\r\\n            a.src=document.location.protocol+\"//script.crazyegg.com/pages/scripts/0034/4159.js?\"+Math.floor(new Date().getTime()/3600000);\\r\\n            a.async=true;a.type=\"text/javascript\";b.parentNode.insertBefore(a,b)}, 1);\\r\\n    </script>\\r\\n\\r\\n\\r\\n\\r\\n\\r\\n    <script type=\"text/javascript\">\\r\\n        var _kiq = _kiq || [];\\r\\n        (function(){\\r\\n            setTimeout(function(){\\r\\n                var d = document, f = d.getElementsByTagName(\\'script\\')[0], s = d.createElement(\\'script\\'); s.type = \\'text/javascript\\';\\r\\n                s.async = true; s.src = \\'//s3.amazonaws.com/ki.js/59766/dqn.js\\'; f.parentNode.insertBefore(s, f);\\r\\n            }, 1);\\r\\n        })();\\r\\n    </script>\\r\\n\\r\\n<script src=\"/min/?f=/javascript/social_share_tracking.js,/javascript/jquery-ui-1.8.19.custom.min.js,/javascript/google_autocomplete.js,/javascript/api/json2.js,/javascript/prettify/prettify.js,/javascript/jquery.boxy.js\" type=\"text/javascript\" charset=\"utf-8\"></script>\\n<script src=\"/min/?f=/javascript/footer.js,/javascript/jquery.jcarousel.min.js,/javascript/classes/VTab.js,/javascript/classes/benefits.js\" type=\"text/javascript\" charset=\"utf-8\"></script>\\n\\n<script type=\"text/javascript\">window.NREUM||(NREUM={});NREUM.info={\"beacon\":\"bam.nr-data.net\",\"licenseKey\":\"404bf9505f\",\"applicationID\":\"4237716\",\"transactionName\":\"NVFbZUFUC0RTAEcLXQwbekRAQQpaHQJDCx0LWk1DXBsVX0I=\",\"queueTime\":0,\"applicationTime\":187,\"atts\":\"GRZYEwlOGEo=\",\"errorBeacon\":\"bam.nr-data.net\",\"agent\":\"js-agent.newrelic.com\\\\/nr-768.min.js\"}</script></body>\\r\\n</html>\\r\\n'"
      ]
     },
     "execution_count": 32,
     "metadata": {},
     "output_type": "execute_result"
    }
   ],
   "source": []
  },
  {
   "cell_type": "code",
   "execution_count": null,
   "metadata": {
    "collapsed": true
   },
   "outputs": [],
   "source": []
  }
 ],
 "metadata": {
  "kernelspec": {
   "display_name": "Python 2",
   "language": "python",
   "name": "python2"
  },
  "language_info": {
   "codemirror_mode": {
    "name": "ipython",
    "version": 2
   },
   "file_extension": ".py",
   "mimetype": "text/x-python",
   "name": "python",
   "nbconvert_exporter": "python",
   "pygments_lexer": "ipython2",
   "version": "2.7.10"
  }
 },
 "nbformat": 4,
 "nbformat_minor": 0
}
