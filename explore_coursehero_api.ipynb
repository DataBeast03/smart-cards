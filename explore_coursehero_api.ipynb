{
 "cells": [
  {
   "cell_type": "markdown",
   "metadata": {},
   "source": [
    "[docs](https://www.coursehero.com/api/intro.php)"
   ]
  },
  {
   "cell_type": "code",
   "execution_count": 27,
   "metadata": {
    "collapsed": true
   },
   "outputs": [],
   "source": [
    "reset -fs"
   ]
  },
  {
   "cell_type": "code",
   "execution_count": 51,
   "metadata": {
    "collapsed": true
   },
   "outputs": [],
   "source": [
    "from __future__ import (absolute_import, \n",
    "                        division,\n",
    "                        print_function,\n",
    "                        unicode_literals)"
   ]
  },
  {
   "cell_type": "code",
   "execution_count": 52,
   "metadata": {
    "collapsed": true
   },
   "outputs": [],
   "source": [
    "import requests"
   ]
  },
  {
   "cell_type": "code",
   "execution_count": 53,
   "metadata": {
    "collapsed": false
   },
   "outputs": [],
   "source": [
    "with open('.config') as f:\n",
    "    api_key = f.readline()\n",
    "    exec(api_key)\n",
    "    \n",
    "    secret_key = f.readline()\n",
    "    exec(secret_key)"
   ]
  },
  {
   "cell_type": "code",
   "execution_count": 154,
   "metadata": {
    "collapsed": false
   },
   "outputs": [
    {
     "name": "stdout",
     "output_type": "stream",
     "text": [
      "api_key=CeTFToHwkEhWZx8fbVWjB9yQqycaPYr3&starts_with=pi\n",
      "https://www.coursehero.com/api/flashcards/categories/?api_key=CeTFToHwkEhWZx8fbVWjB9yQqycaPYr3&starts_with=pi\n"
     ]
    }
   ],
   "source": [
    "# Build api call\n",
    "\n",
    "from urlparse import urljoin, urlunsplit\n",
    "\n",
    "protocol = 'https'\n",
    "url_base = 'www.coursehero.com/api/flashcards'\n",
    "endpoint = 'categories/'\n",
    "api_key_str = 'api_key='+api_key\n",
    "\n",
    "topic = 'starts_with'\n",
    "param = 'pi'\n",
    "\n",
    "args = \"=\".join([topic, param])\n",
    "query = '&'.join([api_key_str, args])\n",
    "print(query)\n",
    "\n",
    "url_tuple = (protocol, url_base, endpoint, query, '')\n",
    "url = urlunsplit(url_tuple)\n",
    "print(url)"
   ]
  },
  {
   "cell_type": "code",
   "execution_count": 155,
   "metadata": {
    "collapsed": false
   },
   "outputs": [
    {
     "name": "stdout",
     "output_type": "stream",
     "text": [
      "API call success =)\n"
     ]
    }
   ],
   "source": [
    "#  Query API\n",
    "from pprint import pprint\n",
    "\n",
    "r = requests.get(url)\n",
    "\n",
    "if r.status_code == 200:\n",
    "    print('API call success =)')\n",
    "    data = r.json()['data']\n",
    "elif r.status_code == 400:\n",
    "     pprint(eval(r.content.replace('false', 'False')))\n",
    "else:\n",
    "    print('Check this status:' + r.status_code)"
   ]
  },
  {
   "cell_type": "code",
   "execution_count": 156,
   "metadata": {
    "collapsed": false
   },
   "outputs": [
    {
     "data": {
      "text/plain": [
       "[{u'category': u'PI', u'id': 1914},\n",
       " {u'category': u'Piaget ', u'id': 4053},\n",
       " {u'category': u'Piano', u'id': 10268},\n",
       " {u'category': u'Piano Keyboarding', u'id': 251051},\n",
       " {u'category': u'Piano Theory', u'id': 10269},\n",
       " {u'category': u'Piano101', u'id': 119262},\n",
       " {u'category': u'Piatti', u'id': 104281},\n",
       " {u'category': u'Picture 1', u'id': 39930},\n",
       " {u'category': u'Picture Composition', u'id': 202332},\n",
       " {u'category': u'pie', u'id': 7441},\n",
       " {u'category': u'Pieces', u'id': 5191},\n",
       " {u'category': u'Pier-point', u'id': 1880},\n",
       " {u'category': u'pierre', u'id': 26726},\n",
       " {u'category': u'Pig ', u'id': 8166},\n",
       " {u'category': u'Pig digestive, urinary, and reproductive', u'id': 8184},\n",
       " {u'category': u'Pig dissection ', u'id': 8270},\n",
       " {u'category': u'PIHT A&P 2', u'id': 72844},\n",
       " {u'category': u'PIHT Clinical', u'id': 73677},\n",
       " {u'category': u'PIHT CPT', u'id': 72947},\n",
       " {u'category': u'PIHT Med Term', u'id': 81640},\n",
       " {u'category': u'PIHT Pharmocology', u'id': 151124},\n",
       " {u'category': u'PIHT Psychology', u'id': 142704},\n",
       " {u'category': u'Pilates', u'id': 2182},\n",
       " {u'category': u'Pilgrimage', u'id': 31767},\n",
       " {u'category': u'Pilot', u'id': 2039},\n",
       " {u'category': u'Pilot Training', u'id': 10848},\n",
       " {u'category': u'Pine Acres', u'id': 8239},\n",
       " {u'category': u'Pine beetle', u'id': 15004},\n",
       " {u'category': u'Pink words (7)', u'id': 6675},\n",
       " {u'category': u'pinkham 6A', u'id': 13092},\n",
       " {u'category': u'Pinyin pronunciation', u'id': 11035},\n",
       " {u'category': u'Pituitary Hormones and their control by the Hypothalamus',\n",
       "  u'id': 5988},\n",
       " {u'category': u'Pizza', u'id': 2560},\n",
       " {u'category': u'Pizza memorization', u'id': 14400},\n",
       " {u'category': u\"Pizza's\", u'id': 3181}]"
      ]
     },
     "execution_count": 156,
     "metadata": {},
     "output_type": "execute_result"
    }
   ],
   "source": [
    "# Filter out \n",
    "data"
   ]
  },
  {
   "cell_type": "code",
   "execution_count": null,
   "metadata": {
    "collapsed": true
   },
   "outputs": [],
   "source": []
  }
 ],
 "metadata": {
  "kernelspec": {
   "display_name": "Python 2",
   "language": "python",
   "name": "python2"
  },
  "language_info": {
   "codemirror_mode": {
    "name": "ipython",
    "version": 2
   },
   "file_extension": ".py",
   "mimetype": "text/x-python",
   "name": "python",
   "nbconvert_exporter": "python",
   "pygments_lexer": "ipython2",
   "version": "2.7.10"
  }
 },
 "nbformat": 4,
 "nbformat_minor": 0
}
