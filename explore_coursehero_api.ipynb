{
 "cells": [
  {
   "cell_type": "markdown",
   "metadata": {},
   "source": [
    "[docs](https://www.coursehero.com/api/intro.php)"
   ]
  },
  {
   "cell_type": "code",
   "execution_count": 214,
   "metadata": {
    "collapsed": true
   },
   "outputs": [],
   "source": [
    "reset -fs"
   ]
  },
  {
   "cell_type": "code",
   "execution_count": 215,
   "metadata": {
    "collapsed": true
   },
   "outputs": [],
   "source": [
    "from __future__ import (absolute_import, \n",
    "                        division,\n",
    "                        print_function,\n",
    "                        unicode_literals)\n",
    "from pprint import pprint\n",
    "import requests\n",
    "import urllib\n",
    "from urlparse import urljoin, urlunsplit"
   ]
  },
  {
   "cell_type": "code",
   "execution_count": 216,
   "metadata": {
    "collapsed": true
   },
   "outputs": [],
   "source": [
    "def validate_api_call(r):\n",
    "    \"Check if api call gets a valid code, if not print the error message.\"\n",
    "    if r.status_code == 200:\n",
    "        print('API call success =)')\n",
    "        data = r.json()['data']\n",
    "    elif r.status_code == 400:\n",
    "         pprint(eval(r.content.replace('false', 'False')))\n",
    "    else:\n",
    "        print('Check this status:' + r.status_code)"
   ]
  },
  {
   "cell_type": "code",
   "execution_count": 217,
   "metadata": {
    "collapsed": false
   },
   "outputs": [],
   "source": [
    "with open('.config') as f:\n",
    "    api_key = f.readline()\n",
    "    exec(api_key)\n",
    "    api_key = {'api_key': api_key}\n",
    "    \n",
    "    secret_key = f.readline()\n",
    "    exec(secret_key)"
   ]
  },
  {
   "cell_type": "code",
   "execution_count": 219,
   "metadata": {
    "collapsed": false
   },
   "outputs": [
    {
     "name": "stdout",
     "output_type": "stream",
     "text": [
      "api_key=CeTFToHwkEhWZx8fbVWjB9yQqycaPYr3&starts_with=pi\n",
      "https://www.coursehero.com/api/flashcards/categories/?api_key=CeTFToHwkEhWZx8fbVWjB9yQqycaPYr3&starts_with=pi\n"
     ]
    }
   ],
   "source": [
    "# Build api call\n",
    "protocol = 'https'\n",
    "base = 'www.coursehero.com/api/flashcards'\n",
    "endpoint = 'categories/'\n",
    "\n",
    "topic = 'starts_with'\n",
    "param = 'pi'\n",
    "\n",
    "queries = {}\n",
    "queries.update(api_key)\n",
    "queries.update({topic: param})\n",
    "          \n",
    "url_query = urllib.urlencode(queries)\n",
    "\n",
    "print(url_query)\n",
    "\n",
    "url = urlunsplit((protocol, base, endpoint, url_query, ''))\n",
    "print(url)"
   ]
  },
  {
   "cell_type": "code",
   "execution_count": 224,
   "metadata": {
    "collapsed": false
   },
   "outputs": [
    {
     "name": "stdout",
     "output_type": "stream",
     "text": [
      "API call success =)\n"
     ]
    }
   ],
   "source": [
    "#  Query API\n",
    "from pprint import pprint\n",
    "\n",
    "r = requests.get(url)\n",
    "\n",
    "validate_api_call(r)\n",
    "\n",
    "data = r.json()['data']"
   ]
  },
  {
   "cell_type": "code",
   "execution_count": 225,
   "metadata": {
    "collapsed": false
   },
   "outputs": [],
   "source": [
    "# Get best category id \n",
    "for datum in data:\n",
    "    if datum['category'].lower() == param: # TODO: Make fuzzy match using fuzzywuzzy package\n",
    "        category_id = datum['id']"
   ]
  },
  {
   "cell_type": "code",
   "execution_count": 226,
   "metadata": {
    "collapsed": false
   },
   "outputs": [
    {
     "name": "stdout",
     "output_type": "stream",
     "text": [
      "https://www.coursehero.com/api/flashcards/categories/1914/sets/?api_key=CeTFToHwkEhWZx8fbVWjB9yQqycaPYr3\n"
     ]
    }
   ],
   "source": [
    "# Get sets that share category id\n",
    "endpoint = 'categories/' + \"/\".join([str(category_id), 'sets']) + '/' # /api/flashcards/categories/1914/sets\n",
    "queries = {}\n",
    "queries.update(api_key)\n",
    "url_query = urllib.urlencode(queries)\n",
    "url = urlunsplit((protocol, base, endpoint, url_query, ''))\n",
    "print(url)"
   ]
  },
  {
   "cell_type": "code",
   "execution_count": 227,
   "metadata": {
    "collapsed": false
   },
   "outputs": [
    {
     "name": "stdout",
     "output_type": "stream",
     "text": [
      "API call success =)\n"
     ]
    }
   ],
   "source": [
    "r = requests.get(url)\n",
    "validate_api_call(r)\n",
    "data = r.json()['data']"
   ]
  },
  {
   "cell_type": "code",
   "execution_count": 228,
   "metadata": {
    "collapsed": false
   },
   "outputs": [
    {
     "data": {
      "text/plain": [
       "[{u'created': 1367234226,\n",
       "  u'description': u'',\n",
       "  u'fcsid': 513137,\n",
       "  u'language_definition': None,\n",
       "  u'language_term': None,\n",
       "  u'modified': 1367234226,\n",
       "  u'owner_id': u'100000752218763',\n",
       "  u'private': 0,\n",
       "  u'title': u'Bydureon',\n",
       "  u'total_flashcards': u'35',\n",
       "  u'url': u'/flashcards/513137/Bydureon/'},\n",
       " {u'created': 1367234205,\n",
       "  u'description': u'',\n",
       "  u'fcsid': 513134,\n",
       "  u'language_definition': None,\n",
       "  u'language_term': None,\n",
       "  u'modified': 1367234205,\n",
       "  u'owner_id': u'100000752218763',\n",
       "  u'private': 0,\n",
       "  u'title': u'Januvia',\n",
       "  u'total_flashcards': u'17',\n",
       "  u'url': u'/flashcards/513134/Januvia/'},\n",
       " {u'created': 1367234220,\n",
       "  u'description': u'',\n",
       "  u'fcsid': 513136,\n",
       "  u'language_definition': None,\n",
       "  u'language_term': None,\n",
       "  u'modified': 1367234220,\n",
       "  u'owner_id': u'100000752218763',\n",
       "  u'private': 0,\n",
       "  u'title': u'Lantus',\n",
       "  u'total_flashcards': u'47',\n",
       "  u'url': u'/flashcards/513136/Lantus/'},\n",
       " {u'created': 1367234215,\n",
       "  u'description': u'',\n",
       "  u'fcsid': 513135,\n",
       "  u'language_definition': None,\n",
       "  u'language_term': None,\n",
       "  u'modified': 1367234215,\n",
       "  u'owner_id': u'100000752218763',\n",
       "  u'private': 0,\n",
       "  u'title': u'Levemir',\n",
       "  u'total_flashcards': u'34',\n",
       "  u'url': u'/flashcards/513135/Levemir/'},\n",
       " {u'created': 1365378127,\n",
       "  u'description': u'History',\n",
       "  u'fcsid': 504760,\n",
       "  u'language_definition': None,\n",
       "  u'language_term': None,\n",
       "  u'modified': 1365385635,\n",
       "  u'owner_id': u'100000752168306',\n",
       "  u'private': 0,\n",
       "  u'title': u'Pi',\n",
       "  u'total_flashcards': u'6',\n",
       "  u'url': u'/flashcards/504760/Pi/'},\n",
       " {u'created': 1409261606,\n",
       "  u'description': u\"Please tell me on the comment of how much can you remember! I'll say How much pi do you know??? Please don't cheat! :D\",\n",
       "  u'fcsid': 670070,\n",
       "  u'language_definition': None,\n",
       "  u'language_term': None,\n",
       "  u'modified': 1409261606,\n",
       "  u'owner_id': u'100000754393534',\n",
       "  u'private': 0,\n",
       "  u'title': u'PI',\n",
       "  u'total_flashcards': u'5',\n",
       "  u'url': u'/flashcards/670070/PI/'},\n",
       " {u'created': 1352144758,\n",
       "  u'description': u'True or False questions',\n",
       "  u'fcsid': 456516,\n",
       "  u'language_definition': None,\n",
       "  u'language_term': None,\n",
       "  u'modified': 1362010522,\n",
       "  u'owner_id': u'100000751543326',\n",
       "  u'private': 0,\n",
       "  u'title': u'True or False',\n",
       "  u'total_flashcards': u'300',\n",
       "  u'url': u'/flashcards/456516/True-or-False/'}]"
      ]
     },
     "execution_count": 228,
     "metadata": {},
     "output_type": "execute_result"
    }
   ],
   "source": [
    "data"
   ]
  },
  {
   "cell_type": "code",
   "execution_count": null,
   "metadata": {
    "collapsed": true
   },
   "outputs": [],
   "source": []
  }
 ],
 "metadata": {
  "kernelspec": {
   "display_name": "Python 2",
   "language": "python",
   "name": "python2"
  },
  "language_info": {
   "codemirror_mode": {
    "name": "ipython",
    "version": 2
   },
   "file_extension": ".py",
   "mimetype": "text/x-python",
   "name": "python",
   "nbconvert_exporter": "python",
   "pygments_lexer": "ipython2",
   "version": "2.7.10"
  }
 },
 "nbformat": 4,
 "nbformat_minor": 0
}
