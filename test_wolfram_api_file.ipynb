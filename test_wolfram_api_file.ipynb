{
 "cells": [
  {
   "cell_type": "code",
   "execution_count": 19,
   "metadata": {
    "collapsed": true
   },
   "outputs": [],
   "source": [
    "reset -fs"
   ]
  },
  {
   "cell_type": "code",
   "execution_count": 29,
   "metadata": {
    "collapsed": false
   },
   "outputs": [
    {
     "name": "stdout",
     "output_type": "stream",
     "text": [
      "Enter a topic to query on Wolfram Alpha:\n",
      "e\n",
      " is not handled by the code\n"
     ]
    }
   ],
   "source": [
    "%run get_wolfram_data.py"
   ]
  },
  {
   "cell_type": "code",
   "execution_count": 27,
   "metadata": {
    "collapsed": false
   },
   "outputs": [
    {
     "data": {
      "text/plain": [
       "<pod error=\"false\" id=\"VisualForm\" numsubpods=\"1\" position=\"200\" scanner=\"Character\" title=\"Visual form\">\n",
       "<subpod title=\"\">\n",
       "<img alt=\"\" height=\"68\" src=\"http://www5a.wolframalpha.com/Calculate/MSP/MSP6345208fce1e2g90991500005hia91bg0h30gi9f?MSPStoreType=image/gif&amp;s=47\" title=\"\" width=\"42\"/>\n",
       "</subpod>\n",
       "</pod>"
      ]
     },
     "execution_count": 27,
     "metadata": {},
     "output_type": "execute_result"
    }
   ],
   "source": [
    "pod"
   ]
  },
  {
   "cell_type": "code",
   "execution_count": 31,
   "metadata": {
    "collapsed": false
   },
   "outputs": [
    {
     "data": {
      "text/plain": [
       "'http://www5a.wolframalpha.com/Calculate/MSP/MSP144621e55gh25f0588g6000054f4g8ccdd72748h?MSPStoreType=image/gif&s=20'"
      ]
     },
     "execution_count": 31,
     "metadata": {},
     "output_type": "execute_result"
    }
   ],
   "source": []
  },
  {
   "cell_type": "code",
   "execution_count": 32,
   "metadata": {
    "collapsed": true
   },
   "outputs": [],
   "source": [
    "filename = 'data/images/foo'\n",
    "save_image(pod.findAll(\"img\")[0].get(\"src\"), filename)"
   ]
  },
  {
   "cell_type": "code",
   "execution_count": null,
   "metadata": {
    "collapsed": true
   },
   "outputs": [],
   "source": []
  },
  {
   "cell_type": "code",
   "execution_count": 30,
   "metadata": {
    "collapsed": true
   },
   "outputs": [],
   "source": [
    "def save_image(url,filename):\n",
    "    '''\n",
    "    Write the image at the specified url to the 'images' folder in the current\n",
    "    working directory with the filename passed in.\n",
    "    '''\n",
    "    from urllib2 import Request, urlopen\n",
    "\n",
    "    # Make request to retrieve image given input url\n",
    "    req = Request(url)\n",
    "    f = urlopen(req)\n",
    "\n",
    "    # Write image to local file\n",
    "    file_out = open(filename, \"w\")\n",
    "    file_out.write(f.read())\n",
    "    file_out.close()\n",
    "\n",
    "# for pod in soup.findAll('pod'):\n",
    "#     # Skip input because it is just what we entered\n",
    "#     if pod.attrs['id'] == 'Input':\n",
    "#         next\n",
    "#     elif pod.attrs['id'] == 'Plot':\n",
    "# #         print pod\n",
    "#         # TODO: This isn't generalizable when multiple images and/or states exist because only\n",
    "#         # one image state is \"displayed\". Natural log is a good example of where it doesn't work.\n",
    "#         for i,image in enumerate(pod.findAll('img')):\n",
    "#             filename = ('images/' + TOPIC + pod.attrs['title'] + state.attrs['input'] + '.gif').replace(' ','_')\n",
    "#             img_url = image.attrs['src']\n",
    "#             save_image(img_url,filename)\n",
    "#     else:\n",
    "#         print pod.attrs['id']"
   ]
  },
  {
   "cell_type": "code",
   "execution_count": null,
   "metadata": {
    "collapsed": true
   },
   "outputs": [],
   "source": []
  }
 ],
 "metadata": {
  "kernelspec": {
   "display_name": "Python 2",
   "language": "python",
   "name": "python2"
  },
  "language_info": {
   "codemirror_mode": {
    "name": "ipython",
    "version": 2
   },
   "file_extension": ".py",
   "mimetype": "text/x-python",
   "name": "python",
   "nbconvert_exporter": "python",
   "pygments_lexer": "ipython2",
   "version": "2.7.10"
  }
 },
 "nbformat": 4,
 "nbformat_minor": 0
}
