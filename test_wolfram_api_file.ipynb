{
 "cells": [
  {
   "cell_type": "code",
   "execution_count": null,
   "metadata": {
    "collapsed": true
   },
   "outputs": [],
   "source": [
    "#TODO: Test these http://dorakmt.tripod.com/mtd/glosmath.html"
   ]
  },
  {
   "cell_type": "code",
   "execution_count": 54,
   "metadata": {
    "collapsed": true
   },
   "outputs": [],
   "source": [
    "reset -fs\n",
    "%run get_wolfram_data.py"
   ]
  },
  {
   "cell_type": "code",
   "execution_count": 55,
   "metadata": {
    "collapsed": false
   },
   "outputs": [
    {
     "name": "stdout",
     "output_type": "stream",
     "text": [
      "Enter a topic to query on Wolfram Alpha: Arctan\n",
      "Wolfram Alpha data stored for: arctan\n"
     ]
    }
   ],
   "source": []
  },
  {
   "cell_type": "code",
   "execution_count": 56,
   "metadata": {
    "collapsed": false
   },
   "outputs": [
    {
     "name": "stdout",
     "output_type": "stream",
     "text": [
      "Variable             Type             Data/Info\n",
      "-----------------------------------------------\n",
      "BeautifulSoup        type             <class 'bs4.BeautifulSoup'>\n",
      "card_front           str              What is the plots of arctan?\n",
      "clean_wolfram_data   function         <function clean_wolfram_data at 0x10948f0c8>\n",
      "data                 unicode          <?xml version='1.0' encod<...>nt='0' />\\n</queryresult>\n",
      "data_out             file             <closed file 'data/arctan<...> mode 'w' at 0x1094789c0>\n",
      "defaultdict          type             <type 'collections.defaultdict'>\n",
      "f                    file             <closed file 'wolframalph<...> mode 'r' at 0x1094780c0>\n",
      "flashcard            dict             n=8\n",
      "flashcard_endpoint   str              data/arctan.json\n",
      "i                    int              1\n",
      "image_filename       str              data/images/arctan\n",
      "image_url            str              http://www5a.wolframalpha<...>SPStoreType=image/gif&s=7\n",
      "json                 module           <module 'json' from '/Use<...>on2.7/json/__init__.pyc'>\n",
      "pod                  Tag              <pod error=\"false\" id=\"Pl<...>307\"/>\\n</subpod>\\n</pod>\n",
      "r                    Response         <Response [200]>\n",
      "requests             module           <module 'requests' from '<...>s/requests/__init__.pyc'>\n",
      "save_image           function         <function save_image at 0x10948fc08>\n",
      "shutil               module           <module 'shutil' from '/U<...>ib/python2.7/shutil.pyc'>\n",
      "soup                 BeautifulSoup    <html><body><queryresult <...>ueryresult></body></html>\n",
      "text                 str              \n",
      "topic                str              arctan\n",
      "url                  str              http://api.wolframalpha.c<...>e&appid=2YWVTJ-5VE4XWX5VY\n",
      "wolfram_key          str              2YWVTJ-5VE4XWX5VY\n"
     ]
    }
   ],
   "source": [
    "whos"
   ]
  },
  {
   "cell_type": "code",
   "execution_count": null,
   "metadata": {
    "collapsed": true
   },
   "outputs": [],
   "source": []
  }
 ],
 "metadata": {
  "kernelspec": {
   "display_name": "Python 2",
   "language": "python",
   "name": "python2"
  },
  "language_info": {
   "codemirror_mode": {
    "name": "ipython",
    "version": 2
   },
   "file_extension": ".py",
   "mimetype": "text/x-python",
   "name": "python",
   "nbconvert_exporter": "python",
   "pygments_lexer": "ipython2",
   "version": "2.7.10"
  }
 },
 "nbformat": 4,
 "nbformat_minor": 0
}
