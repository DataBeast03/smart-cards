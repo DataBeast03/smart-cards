{
 "cells": [
  {
   "cell_type": "code",
   "execution_count": 226,
   "metadata": {
    "collapsed": false,
    "scrolled": true
   },
   "outputs": [
    {
     "name": "stdout",
     "output_type": "stream",
     "text": [
      "Enter a topic to query on Wolfram Alpha:\n",
      "pi\n",
      "\n",
      "URL:  http://api.wolframalpha.com/v2/query?input=pi&format=image&appid=2YWVTJ-5VE4XWX5VY \n",
      "\n"
     ]
    }
   ],
   "source": [
    "from bs4 import BeautifulSoup\n",
    "import requests\n",
    "\n",
    "# Open config file to get key\n",
    "with open('wolframalpha_api.config', 'r') as f:\n",
    "    wolfram_key = f.readline().rstrip()\n",
    "            \n",
    "# Ask for topic to query\n",
    "print 'Enter a topic to query on Wolfram Alpha:'\n",
    "TOPIC = raw_input()\n",
    "\n",
    "# Build URL using topic/key\n",
    "url = 'http://api.wolframalpha.com/v2/query?input=' + TOPIC + \"&format=image\" +'&appid=' + wolfram_key \n",
    "\n",
    "# Scrape URL using requests and beautiful soup\n",
    "r  = requests.get(url)\n",
    "data = r.text\n",
    "soup = BeautifulSoup(data)\n",
    "\n",
    "print '\\nURL: ',url,'\\n'"
   ]
  },
  {
   "cell_type": "code",
   "execution_count": 111,
   "metadata": {
    "collapsed": false
   },
   "outputs": [
    {
     "name": "stdout",
     "output_type": "stream",
     "text": [
      "log(x) is the natural logarithm\n",
      "\n",
      "http://www5a.wolframalpha.com/Calculate/MSP/MSP18821gba5a3f01ihic8800002a039223de9ic96h?MSPStoreType=image/gif&s=45\n"
     ]
    }
   ],
   "source": [
    "for i,pod in enumerate(soup.findAll('pod')):\n",
    "    if i == 5:\n",
    "        print pod.findAll(\"info\")[0].get(\"text\") + \"\\n\"\n",
    "        print pod.findAll(\"info\")[0].findAll(\"img\")[0].get(\"src\")"
   ]
  },
  {
   "cell_type": "code",
   "execution_count": 170,
   "metadata": {
    "collapsed": true
   },
   "outputs": [],
   "source": [
    "from collections import defaultdict"
   ]
  },
  {
   "cell_type": "code",
   "execution_count": 227,
   "metadata": {
    "collapsed": false
   },
   "outputs": [],
   "source": [
    "pod_data = defaultdict(list)\n",
    "for i,pod in enumerate(soup.findAll('pod')):\n",
    "    #print pod[\"id\"]\n",
    "    #print pod.findAll(\"img\")[0].get(\"src\")\n",
    "    pod_data[pod[\"id\"]] = [ pod.findAll(\"img\")[0].get(\"src\")]\n",
    "    for info in pod.findAll(\"info\"):\n",
    "         if info.get(\"text\") != None and info.findAll(\"img\"):\n",
    "            #print info.get(\"text\"),info.findAll(\"img\")[0].get(\"src\")\n",
    "            #print pod[\"id\"] , pod.findAll(\"img\")[0].get(\"src\")\n",
    "            #print \"\\n\"\n",
    "            pod_data[pod[\"id\"]].append(info.get(\"text\")) \n",
    "            pod_data[pod[\"id\"]].append(info.findAll(\"img\")[0].get(\"src\"))\n",
    "            "
   ]
  },
  {
   "cell_type": "code",
   "execution_count": null,
   "metadata": {
    "collapsed": true
   },
   "outputs": [],
   "source": [
    "# Data dict structure\n",
    "\n",
    "# pod_data[pod ID] = [pod ID url, supplimental info, supplimental info url] "
   ]
  },
  {
   "cell_type": "code",
   "execution_count": 232,
   "metadata": {
    "collapsed": false
   },
   "outputs": [],
   "source": [
    "# create function to save data to text file\n",
    "# Open data file to get key\n",
    "# Write image to local file\n",
    "import json\n",
    "data_out = open(TOPIC + \".txt\", \"w\")\n",
    "data_out.write(json.dumps(pod_data))\n",
    "data_out.close()"
   ]
  },
  {
   "cell_type": "code",
   "execution_count": 233,
   "metadata": {
    "collapsed": false
   },
   "outputs": [
    {
     "name": "stdout",
     "output_type": "stream",
     "text": [
      "[u'NumberLine', u'DecimalApproximation', u'SeriesRepresentations:MathematicalFunctionIdentityData', u'ContinuedFraction', u'AlternativeRepresentations:MathematicalFunctionIdentityData', u'Input', u'Property', u'IntegralRepresentations:MathematicalFunctionIdentityData']\n",
      "\n",
      "\n",
      "[[u'http://www5b.wolframalpha.com/Calculate/MSP/MSP100420f92deaa7ib31d80000117ig5dcdehc54dg?MSPStoreType=image/gif&s=42'], [u'http://www5b.wolframalpha.com/Calculate/MSP/MSP100220f92deaa7ib31d8000044fcie106d07bhfi?MSPStoreType=image/gif&s=42'], [u'http://www5b.wolframalpha.com/Calculate/MSP/MSP101220f92deaa7ib31d80000334f420b8g59d0ce?MSPStoreType=image/gif&s=42', u'(n\\nm) is the binomial coefficient', u'http://www5b.wolframalpha.com/Calculate/MSP/MSP101520f92deaa7ib31d8000051c1ia2c8g2e8415?MSPStoreType=image/gif&s=42'], [u'http://www5b.wolframalpha.com/Calculate/MSP/MSP100520f92deaa7ib31d800001bad8e2a092afcd1?MSPStoreType=image/gif&s=42'], [u'http://www5b.wolframalpha.com/Calculate/MSP/MSP100620f92deaa7ib31d80000555df9i91bdg3713?MSPStoreType=image/gif&s=42', u'log(x) is the natural logarithm', u'http://www5b.wolframalpha.com/Calculate/MSP/MSP100920f92deaa7ib31d8000014f65i89099g2988?MSPStoreType=image/gif&s=42', u'i is the imaginary unit', u'http://www5b.wolframalpha.com/Calculate/MSP/MSP101020f92deaa7ib31d8000015722di97dc0i589?MSPStoreType=image/gif&s=42', u'cos^(-1)(x) is the inverse cosine function', u'http://www5b.wolframalpha.com/Calculate/MSP/MSP101120f92deaa7ib31d800001ehf33ced2678gfa?MSPStoreType=image/gif&s=42'], [u'http://www5b.wolframalpha.com/Calculate/MSP/MSP100120f92deaa7ib31d8000067iig66he3eadgd8?MSPStoreType=image/gif&s=42'], [u'http://www5b.wolframalpha.com/Calculate/MSP/MSP100320f92deaa7ib31d80000154c77gh12bi0760?MSPStoreType=image/gif&s=42'], [u'http://www5b.wolframalpha.com/Calculate/MSP/MSP101620f92deaa7ib31d8000037fhh7ebhdd750dg?MSPStoreType=image/gif&s=42']]\n"
     ]
    }
   ],
   "source": [
    "data_in = open(TOPIC, \"r\")\n",
    "for line in data_in.readlines():\n",
    "    print json.loads(line).keys()\n",
    "    print \"\\n\"\n",
    "    print json.loads(line).values()"
   ]
  },
  {
   "cell_type": "code",
   "execution_count": 11,
   "metadata": {
    "collapsed": false,
    "scrolled": true
   },
   "outputs": [
    {
     "name": "stdout",
     "output_type": "stream",
     "text": [
      "FRONT:\n",
      "None\n",
      "BACK:\n",
      "None\n"
     ]
    }
   ],
   "source": [
    "card_front= None\n",
    "card_back = None\n",
    "for i,pod in enumerate(soup.findAll('pod')):\n",
    "    if i == 1:\n",
    "#         print pod\n",
    "        card_front = pod.attrs['title'] + ' of ' + TOPIC + '?'\n",
    "        for plaintext in pod.find('plaintext'):\n",
    "            card_back = plaintext\n",
    "        break\n",
    "    \n",
    "print 'FRONT:\\n',card_front\n",
    "print 'BACK:\\n',card_back"
   ]
  },
  {
   "cell_type": "code",
   "execution_count": null,
   "metadata": {
    "collapsed": true
   },
   "outputs": [],
   "source": [
    "''' Possible FlashCard class Psuedocode '''\n",
    "# class FlashCard():  \n",
    "#     self.raw = soup\n",
    "#     self.front = ''\n",
    "#     self.back = ''\n",
    "#     self.type = ''\n",
    "#\n",
    "#     generate_front(attr_value,TOPIC)\n",
    "#     generate_back()\n",
    "#\n",
    "#\n",
    "#     def generate_front(value,TOPIC):\n",
    "#         self.front = 'What is the ' + pod.attrs['title'] + ' of ' + TOPIC + '?' "
   ]
  },
  {
   "cell_type": "code",
   "execution_count": 8,
   "metadata": {
    "collapsed": false
   },
   "outputs": [],
   "source": [
    "def save_image(url,filename):\n",
    "    '''\n",
    "    Write the image at the specified url to the 'images' folder in the current\n",
    "    working directory with the filename passed in.\n",
    "    '''\n",
    "    from urllib2 import Request, urlopen\n",
    "\n",
    "    # Make request to retrieve image given input url\n",
    "    req = Request(url)\n",
    "    f = urlopen(req)\n",
    "\n",
    "    # Write image to local file\n",
    "    file_out = open(filename, \"w\")\n",
    "    file_out.write(f.read())\n",
    "    file_out.close()\n",
    "\n",
    "for pod in soup.findAll('pod'):\n",
    "    # Skip input because it is just what we entered\n",
    "    if pod.attrs['id'] == 'Input':\n",
    "        next\n",
    "    elif pod.attrs['id'] == 'Plot':\n",
    "#         print pod\n",
    "        # TODO: This isn't generalizable when multiple images and/or states exist because only\n",
    "        # one image state is \"displayed\". Natural log is a good example of where it doesn't work.\n",
    "        for i,image in enumerate(pod.findAll('img')):\n",
    "            filename = ('images/' + TOPIC + pod.attrs['title'] + state.attrs['input'] + '.gif').replace(' ','_')\n",
    "            img_url = image.attrs['src']\n",
    "            save_image(img_url,filename)\n",
    "    else:\n",
    "        print pod.attrs['id']"
   ]
  },
  {
   "cell_type": "code",
   "execution_count": 256,
   "metadata": {
    "collapsed": false
   },
   "outputs": [
    {
     "data": {
      "text/html": [
       "<img src=\"images/natural_logPlots.gif\"/>"
      ],
      "text/plain": [
       "<IPython.core.display.Image object>"
      ]
     },
     "execution_count": 256,
     "metadata": {},
     "output_type": "execute_result"
    }
   ],
   "source": [
    "# Sanity check\n",
    "from IPython.display import Image\n",
    "Image(url='images/natural_logPlots.gif')"
   ]
  }
 ],
 "metadata": {
  "kernelspec": {
   "display_name": "Python 2",
   "language": "python",
   "name": "python2"
  },
  "language_info": {
   "codemirror_mode": {
    "name": "ipython",
    "version": 2
   },
   "file_extension": ".py",
   "mimetype": "text/x-python",
   "name": "python",
   "nbconvert_exporter": "python",
   "pygments_lexer": "ipython2",
   "version": "2.7.10"
  }
 },
 "nbformat": 4,
 "nbformat_minor": 0
}
