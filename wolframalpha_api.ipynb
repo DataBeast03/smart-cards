{
 "cells": [
  {
   "cell_type": "code",
   "execution_count": null,
   "metadata": {
    "collapsed": true
   },
   "outputs": [],
   "source": [
    "reset -fs"
   ]
  },
  {
   "cell_type": "code",
   "execution_count": null,
   "metadata": {
    "collapsed": true
   },
   "outputs": [],
   "source": []
  },
  {
   "cell_type": "code",
   "execution_count": null,
   "metadata": {
    "collapsed": true
   },
   "outputs": [],
   "source": []
  },
  {
   "cell_type": "code",
   "execution_count": null,
   "metadata": {
    "collapsed": true
   },
   "outputs": [],
   "source": []
  },
  {
   "cell_type": "code",
   "execution_count": 22,
   "metadata": {
    "collapsed": true
   },
   "outputs": [],
   "source": [
    "# Process the soup, advanced\n",
    "\n",
    "# Get of the important information (and extra)\n",
    "\n",
    "pod_data = defaultdict(list)\n",
    "for i,pod in enumerate(soup.findAll('pod')):\n",
    "    pod_data[pod[\"id\"]] = [ pod.findAll(\"img\")[0].get(\"src\")]\n",
    "    for info in pod.findAll(\"info\"):\n",
    "         if info.get(\"text\") != None and info.findAll(\"img\"):\n",
    "            pod_data[pod[\"id\"]].append(info.get(\"text\")) \n",
    "            pod_data[pod[\"id\"]].append(info.findAll(\"img\")[0].get(\"src\"))"
   ]
  },
  {
   "cell_type": "code",
   "execution_count": 23,
   "metadata": {
    "collapsed": false
   },
   "outputs": [
    {
     "data": {
      "text/plain": [
       "defaultdict(<type 'list'>, {'NumberLine': ['http://www5a.wolframalpha.com/Calculate/MSP/MSP15431g0e9bdef4a04b7b00005ef9i360id25f98h?MSPStoreType=image/gif&s=25'], 'DecimalApproximation': ['http://www5a.wolframalpha.com/Calculate/MSP/MSP15411g0e9bdef4a04b7b000067cae9bf5dfgb29c?MSPStoreType=image/gif&s=25'], 'SeriesRepresentations:MathematicalFunctionIdentityData': ['http://www5a.wolframalpha.com/Calculate/MSP/MSP15511g0e9bdef4a04b7b000065b83cbeeaif6d25?MSPStoreType=image/gif&s=25', '(n\\nm) is the binomial coefficient', 'http://www5a.wolframalpha.com/Calculate/MSP/MSP15541g0e9bdef4a04b7b000035ei961e165b9676?MSPStoreType=image/gif&s=25'], 'ContinuedFraction': ['http://www5a.wolframalpha.com/Calculate/MSP/MSP15441g0e9bdef4a04b7b000033e9d1ba3ie59edh?MSPStoreType=image/gif&s=25'], 'AlternativeRepresentations:MathematicalFunctionIdentityData': ['http://www5a.wolframalpha.com/Calculate/MSP/MSP15451g0e9bdef4a04b7b00000dgdgeba756bhg69?MSPStoreType=image/gif&s=25', 'log(x) is the natural logarithm', 'http://www5a.wolframalpha.com/Calculate/MSP/MSP15481g0e9bdef4a04b7b00002430d6525fdb1ci8?MSPStoreType=image/gif&s=25', 'i is the imaginary unit', 'http://www5a.wolframalpha.com/Calculate/MSP/MSP15491g0e9bdef4a04b7b00002i5ea93h979g80d1?MSPStoreType=image/gif&s=25', 'cos^(-1)(x) is the inverse cosine function', 'http://www5a.wolframalpha.com/Calculate/MSP/MSP15501g0e9bdef4a04b7b000010ggebebfdd5chi2?MSPStoreType=image/gif&s=25'], 'Input': ['http://www5a.wolframalpha.com/Calculate/MSP/MSP15401g0e9bdef4a04b7b00001dhf717b8707c61b?MSPStoreType=image/gif&s=25'], 'Property': ['http://www5a.wolframalpha.com/Calculate/MSP/MSP15421g0e9bdef4a04b7b00002e62dgh240i876dg?MSPStoreType=image/gif&s=25'], 'IntegralRepresentations:MathematicalFunctionIdentityData': ['http://www5a.wolframalpha.com/Calculate/MSP/MSP15551g0e9bdef4a04b7b000053d6g37g6i8aa9gb?MSPStoreType=image/gif&s=25']})"
      ]
     },
     "execution_count": 23,
     "metadata": {},
     "output_type": "execute_result"
    }
   ],
   "source": [
    "pod_data"
   ]
  },
  {
   "cell_type": "code",
   "execution_count": 255,
   "metadata": {
    "collapsed": false
   },
   "outputs": [
    {
     "name": "stdout",
     "output_type": "stream",
     "text": [
      "Root\n",
      "PropertiesAsARealFunction\n",
      "Derivative\n",
      "IndefiniteIntegral\n",
      "DefiniteIntegral\n",
      "AlternativeRepresentations:MathematicalFunctionIdentityData\n",
      "SeriesRepresentations:MathematicalFunctionIdentityData\n",
      "IntegralRepresentations:MathematicalFunctionIdentityData\n"
     ]
    }
   ],
   "source": [
    "def save_image(url,filename):\n",
    "    '''\n",
    "    Write the image at the specified url to the 'images' folder in the current\n",
    "    working directory with the filename passed in.\n",
    "    '''\n",
    "    from urllib2 import Request, urlopen\n",
    "\n",
    "    # Make request to retrieve image given input url\n",
    "    req = Request(url)\n",
    "    f = urlopen(req)\n",
    "\n",
    "    # Write image to local file\n",
    "    file_out = open(filename, \"w\")\n",
    "    file_out.write(f.read())\n",
    "    file_out.close()\n",
    "\n",
    "for pod in soup.findAll('pod'):\n",
    "    # Skip input because it is just what we entered\n",
    "    if pod.attrs['id'] == 'Input':\n",
    "        next\n",
    "    elif pod.attrs['id'] == 'Plot':\n",
    "#         print pod\n",
    "        # TODO: This isn't generalizable when multiple images and/or states exist because only\n",
    "        # one image state is \"displayed\". Natural log is a good example of where it doesn't work.\n",
    "        for i,image in enumerate(pod.findAll('img')):\n",
    "            filename = ('images/' + TOPIC + pod.attrs['title'] + state.attrs['input'] + '.gif').replace(' ','_')\n",
    "            img_url = image.attrs['src']\n",
    "            save_image(img_url,filename)\n",
    "    else:\n",
    "        print pod.attrs['id']"
   ]
  },
  {
   "cell_type": "code",
   "execution_count": 256,
   "metadata": {
    "collapsed": false
   },
   "outputs": [
    {
     "data": {
      "text/html": [
       "<img src=\"images/natural_logPlots.gif\"/>"
      ],
      "text/plain": [
       "<IPython.core.display.Image object>"
      ]
     },
     "execution_count": 256,
     "metadata": {},
     "output_type": "execute_result"
    }
   ],
   "source": [
    "# Sanity check\n",
    "from IPython.display import Image\n",
    "Image(url='images/natural_logPlots.gif')"
   ]
  }
 ],
 "metadata": {
  "kernelspec": {
   "display_name": "Python 2",
   "language": "python",
   "name": "python2"
  },
  "language_info": {
   "codemirror_mode": {
    "name": "ipython",
    "version": 2
   },
   "file_extension": ".py",
   "mimetype": "text/x-python",
   "name": "python",
   "nbconvert_exporter": "python",
   "pygments_lexer": "ipython2",
   "version": "2.7.10"
  }
 },
 "nbformat": 4,
 "nbformat_minor": 0
}
