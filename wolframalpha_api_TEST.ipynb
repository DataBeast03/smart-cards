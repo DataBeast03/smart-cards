{
 "cells": [
  {
   "cell_type": "code",
   "execution_count": 5,
   "metadata": {
    "collapsed": true
   },
   "outputs": [],
   "source": [
    "from bs4 import BeautifulSoup\n",
    "import requests\n",
    "\n",
    "# Open config file to get key\n",
    "with open('wolframalpha_api.config', 'r') as f:\n",
    "    wolfram_key = f.readline().rstrip()"
   ]
  },
  {
   "cell_type": "code",
   "execution_count": 6,
   "metadata": {
    "collapsed": false,
    "scrolled": true
   },
   "outputs": [
    {
     "name": "stdout",
     "output_type": "stream",
     "text": [
      "Enter a topic to query on Wolfram Alpha:\n",
      "pi\n",
      "\n",
      "URL:  http://api.wolframalpha.com/v2/query?input=pi&appid=2YWVTJ-5VE4XWX5VY \n",
      "\n",
      "<html><body><queryresult datatypes=\"MathematicalFunctionIdentity\" error=\"false\" host=\"http://www5b.wolframalpha.com\" id=\"MSPa20401hbi733ibca193bb00004ci630cg7f749fda\" numpods=\"8\" parsetimedout=\"false\" parsetiming=\"0.132\" recalculate=\"http://www5b.wolframalpha.com/api/v2/recalc.jsp?id=MSPa20391hbi733ibca193bb00004h63e9a504e6be1c&amp;s=9\" related=\"http://www5b.wolframalpha.com/api/v2/relatedQueries.jsp?id=MSPa20411hbi733ibca193bb000058984ced2747fi0a&amp;s=9\" server=\"9\" success=\"true\" timedout=\"Numeric\" timedoutpods=\"\" timing=\"2.923\" version=\"2.6\">\n",
      "<pod error=\"false\" id=\"Input\" numsubpods=\"1\" position=\"100\" scanner=\"Identity\" title=\"Input\">\n",
      "<subpod title=\"\">\n",
      "<plaintext>pi</plaintext>\n",
      "<img alt=\"pi\" height=\"18\" src=\"http://www5b.wolframalpha.com/Calculate/MSP/MSP20421hbi733ibca193bb000063ecbadb31bgi105?MSPStoreType=image/gif&amp;s=9\" title=\"pi\" width=\"9\"/>\n",
      "</subpod>\n",
      "</pod>\n",
      "<pod error=\"false\" id=\"DecimalApproximation\" numsubpods=\"1\" position=\"200\" primary=\"true\" scanner=\"Numeric\" title=\"Decimal approximation\">\n",
      "<subpod title=\"\">\n",
      "<plaintext>3.1415926535897932384626433832795028841971693993751058...</plaintext>\n",
      "<img alt=\"3.1415926535897932384626433832795028841971693993751058...\" height=\"20\" src=\"http://www5b.wolframalpha.com/Calculate/MSP/MSP20431hbi733ibca193bb00006a9di8if6775gaf9?MSPStoreType=image/gif&amp;s=9\" title=\"3.1415926535897932384626433832795028841971693993751058...\" width=\"443\"/>\n",
      "</subpod>\n",
      "<states count=\"1\">\n",
      "<state input=\"DecimalApproximation__More digits\" name=\"More digits\"></state>\n",
      "</states>\n",
      "</pod>\n",
      "<pod error=\"false\" id=\"Property\" numsubpods=\"1\" position=\"300\" scanner=\"Numeric\" title=\"Property\">\n",
      "<subpod title=\"\">\n",
      "<plaintext>pi is a transcendental number</plaintext>\n",
      "<img alt=\"pi is a transcendental number\" height=\"18\" src=\"http://www5b.wolframalpha.com/Calculate/MSP/MSP20441hbi733ibca193bb0000676eg40bgh86h613?MSPStoreType=image/gif&amp;s=9\" title=\"pi is a transcendental number\" width=\"194\"/>\n",
      "</subpod>\n",
      "</pod>\n",
      "<pod error=\"false\" id=\"NumberLine\" numsubpods=\"1\" position=\"400\" scanner=\"NumberLine\" title=\"Number line\">\n",
      "<subpod title=\"\">\n",
      "<plaintext></plaintext>\n",
      "<img alt=\"\" height=\"56\" src=\"http://www5b.wolframalpha.com/Calculate/MSP/MSP20451hbi733ibca193bb00002ga9920h9b2e70g2?MSPStoreType=image/gif&amp;s=9\" title=\"\" width=\"300\"/>\n",
      "</subpod>\n",
      "</pod>\n",
      "<pod error=\"false\" id=\"ContinuedFraction\" numsubpods=\"1\" position=\"500\" scanner=\"ContinuedFraction\" title=\"Continued fraction\">\n",
      "<subpod title=\"\">\n",
      "<plaintext>[3; 7, 15, 1, 292, 1, 1, 1, 2, 1, 3, 1, 14, 2, 1, 1, 2, 2, 2, 2, 1, 84, 2, 1, 1, 15, ...]</plaintext>\n",
      "<img alt=\"[3; 7, 15, 1, 292, 1, 1, 1, 2, 1, 3, 1, 14, 2, 1, 1, 2, 2, 2, 2, 1, 84, 2, 1, 1, 15, ...]\" height=\"20\" src=\"http://www5b.wolframalpha.com/Calculate/MSP/MSP20461hbi733ibca193bb00001b6a36b0h0d54740?MSPStoreType=image/gif&amp;s=9\" title=\"[3; 7, 15, 1, 292, 1, 1, 1, 2, 1, 3, 1, 14, 2, 1, 1, 2, 2, 2, 2, 1, 84, 2, 1, 1, 15, ...]\" width=\"498\"/>\n",
      "</subpod>\n",
      "<states count=\"2\">\n",
      "<state input=\"ContinuedFraction__More terms\" name=\"More terms\"></state>\n",
      "<state input=\"ContinuedFraction__Fraction form\" name=\"Fraction form\"></state>\n",
      "</states>\n",
      "</pod>\n",
      "<pod error=\"false\" id=\"AlternativeRepresentations:MathematicalFunctionIdentityData\" numsubpods=\"3\" position=\"600\" scanner=\"MathematicalFunctionData\" title=\"Alternative representations\">\n",
      "<subpod title=\"\">\n",
      "<plaintext>pi = 180 °</plaintext>\n",
      "<img alt=\"pi = 180 °\" height=\"28\" src=\"http://www5b.wolframalpha.com/Calculate/MSP/MSP20471hbi733ibca193bb000037e9073034hgc6f6?MSPStoreType=image/gif&amp;s=9\" title=\"pi = 180 °\" width=\"61\"/>\n",
      "</subpod>\n",
      "<subpod title=\"\">\n",
      "<plaintext>pi = -i log(-1)</plaintext>\n",
      "<img alt=\"pi = -i log(-1)\" height=\"28\" src=\"http://www5b.wolframalpha.com/Calculate/MSP/MSP20481hbi733ibca193bb0000690g33bbi620hc02?MSPStoreType=image/gif&amp;s=9\" title=\"pi = -i log(-1)\" width=\"97\"/>\n",
      "</subpod>\n",
      "<subpod title=\"\">\n",
      "<plaintext>pi = cos^(-1)(-1)</plaintext>\n",
      "<img alt=\"pi = cos^(-1)(-1)\" height=\"28\" src=\"http://www5b.wolframalpha.com/Calculate/MSP/MSP20491hbi733ibca193bb00005ah1ab48a345h3ib?MSPStoreType=image/gif&amp;s=9\" title=\"pi = cos^(-1)(-1)\" width=\"94\"/>\n",
      "</subpod>\n",
      "<states count=\"1\">\n",
      "<state input=\"AlternativeRepresentations:MathematicalFunctionIdentityData__More\" name=\"More\"></state>\n",
      "</states>\n",
      "<infos count=\"4\">\n",
      "<info text=\"log(x) is the natural logarithm\">\n",
      "<img alt=\"log(x) is the natural logarithm\" height=\"18\" src=\"http://www5b.wolframalpha.com/Calculate/MSP/MSP20501hbi733ibca193bb0000156380b534ig8cia?MSPStoreType=image/gif&amp;s=9\" title=\"log(x) is the natural logarithm\" width=\"198\"/>\n",
      "<link text=\"Documentation\" title=\"Mathematica\" url=\"http://reference.wolfram.com/mathematica/ref/Log.html\"/>\n",
      "<link text=\"Properties\" title=\"Wolfram Functions Site\" url=\"http://functions.wolfram.com/ElementaryFunctions/Log\"/>\n",
      "<link text=\"Definition\" title=\"MathWorld\" url=\"http://mathworld.wolfram.com/NaturalLogarithm.html\"/>\n",
      "</info>\n",
      "<info text=\"i is the imaginary unit\">\n",
      "<img alt=\"i is the imaginary unit\" height=\"18\" src=\"http://www5b.wolframalpha.com/Calculate/MSP/MSP20511hbi733ibca193bb00005c609687idhdcch4?MSPStoreType=image/gif&amp;s=9\" title=\"i is the imaginary unit\" width=\"146\"/>\n",
      "<link text=\"Documentation\" title=\"Documentation\" url=\"http://reference.wolfram.com/mathematica/ref/I.html\"/>\n",
      "<link text=\"Definition\" title=\"MathWorld\" url=\"http://mathworld.wolfram.com/i.html\"/>\n",
      "</info>\n",
      "<info text=\"cos^(-1)(x) is the inverse cosine function\">\n",
      "<img alt=\"cos^(-1)(x) is the inverse cosine function\" height=\"18\" src=\"http://www5b.wolframalpha.com/Calculate/MSP/MSP20521hbi733ibca193bb00004ch637b9887fc9e4?MSPStoreType=image/gif&amp;s=9\" title=\"cos^(-1)(x) is the inverse cosine function\" width=\"275\"/>\n",
      "<link text=\"Documentation\" title=\"Mathematica\" url=\"http://reference.wolfram.com/mathematica/ref/ArcCos.html\"/>\n",
      "<link text=\"Properties\" title=\"Wolfram Functions Site\" url=\"http://functions.wolfram.com/ElementaryFunctions/ArcCos\"/>\n",
      "<link text=\"Definition\" title=\"MathWorld\" url=\"http://mathworld.wolfram.com/InverseCosine.html\"/>\n",
      "</info>\n",
      "<info>\n",
      "<link text=\"More information\" url=\"http://functions.wolfram.com/Constants/Pi/27/ShowAll.html\"/>\n",
      "</info>\n",
      "</infos>\n",
      "</pod>\n",
      "<pod error=\"false\" id=\"SeriesRepresentations:MathematicalFunctionIdentityData\" numsubpods=\"3\" position=\"700\" scanner=\"MathematicalFunctionData\" title=\"Series representations\">\n",
      "<subpod title=\"\">\n",
      "<plaintext>pi = 4 sum_(k=0)^infinity (-1)^k/(2 k+1)</plaintext>\n",
      "<img alt=\"pi = 4 sum_(k=0)^infinity (-1)^k/(2 k+1)\" height=\"56\" src=\"http://www5b.wolframalpha.com/Calculate/MSP/MSP20531hbi733ibca193bb00005419a9aacg54i905?MSPStoreType=image/gif&amp;s=9\" title=\"pi = 4 sum_(k=0)^infinity (-1)^k/(2 k+1)\" width=\"110\"/>\n",
      "</subpod>\n",
      "<subpod title=\"\">\n",
      "<plaintext>pi = -2+2 sum_(k=1)^infinity 2^k/(binomial(2 k, k))</plaintext>\n",
      "<img alt=\"pi = -2+2 sum_(k=1)^infinity 2^k/(binomial(2 k, k))\" height=\"69\" src=\"http://www5b.wolframalpha.com/Calculate/MSP/MSP20541hbi733ibca193bb00005c6gc11aff8i8eb1?MSPStoreType=image/gif&amp;s=9\" title=\"pi = -2+2 sum_(k=1)^infinity 2^k/(binomial(2 k, k))\" width=\"139\"/>\n",
      "</subpod>\n",
      "<subpod title=\"\">\n",
      "<plaintext>pi = sum_(k=0)^infinity (50 k-6)/(2^k binomial(3 k, k))</plaintext>\n",
      "<img alt=\"pi = sum_(k=0)^infinity (50 k-6)/(2^k binomial(3 k, k))\" height=\"67\" src=\"http://www5b.wolframalpha.com/Calculate/MSP/MSP20551hbi733ibca193bb00004d347iae2g38g6hb?MSPStoreType=image/gif&amp;s=9\" title=\"pi = sum_(k=0)^infinity (50 k-6)/(2^k binomial(3 k, k))\" width=\"111\"/>\n",
      "</subpod>\n",
      "<states count=\"1\">\n",
      "<state input=\"SeriesRepresentations:MathematicalFunctionIdentityData__More\" name=\"More\"></state>\n",
      "</states>\n",
      "<infos count=\"2\">\n",
      "<info text=\"(n\n",
      "m) is the binomial coefficient\">\n",
      "<img alt=\"(n\n",
      "m) is the binomial coefficient\" height=\"42\" src=\"http://www5b.wolframalpha.com/Calculate/MSP/MSP20561hbi733ibca193bb000057db0hh9aabh5f24?MSPStoreType=image/gif&amp;s=9\" title=\"(n\n",
      "m) is the binomial coefficient\" width=\"192\"/>\n",
      "<link text=\"Documentation\" title=\"Mathematica\" url=\"http://reference.wolfram.com/mathematica/ref/Binomial.html\"/>\n",
      "<link text=\"Properties\" title=\"Wolfram Functions Site\" url=\"http://functions.wolfram.com/GammaBetaErf/Binomial\"/>\n",
      "<link text=\"Definition\" title=\"MathWorld\" url=\"http://mathworld.wolfram.com/BinomialCoefficient.html\"/>\n",
      "</info>\n",
      "<info>\n",
      "<link text=\"More information\" url=\"http://functions.wolfram.com/Constants/Pi/06/ShowAll.html\"/>\n",
      "</info>\n",
      "</infos>\n",
      "</pod>\n",
      "<pod error=\"false\" id=\"IntegralRepresentations:MathematicalFunctionIdentityData\" numsubpods=\"3\" position=\"800\" scanner=\"MathematicalFunctionData\" title=\"Integral representations\">\n",
      "<subpod title=\"\">\n",
      "<plaintext>pi = 2 integral_0^infinity 1/(t^2+1) dt</plaintext>\n",
      "<img alt=\"pi = 2 integral_0^infinity 1/(t^2+1) dt\" height=\"44\" src=\"http://www5b.wolframalpha.com/Calculate/MSP/MSP20571hbi733ibca193bb00006af0924ehih375b7?MSPStoreType=image/gif&amp;s=9\" title=\"pi = 2 integral_0^infinity 1/(t^2+1) dt\" width=\"126\"/>\n",
      "</subpod>\n",
      "<subpod title=\"\">\n",
      "<plaintext>pi = 4 integral_0^1 sqrt(1-t^2) dt</plaintext>\n",
      "<img alt=\"pi = 4 integral_0^1 sqrt(1-t^2) dt\" height=\"45\" src=\"http://www5b.wolframalpha.com/Calculate/MSP/MSP20581hbi733ibca193bb00006ai814i012f900i8?MSPStoreType=image/gif&amp;s=9\" title=\"pi = 4 integral_0^1 sqrt(1-t^2) dt\" width=\"138\"/>\n",
      "</subpod>\n",
      "<subpod title=\"\">\n",
      "<plaintext>pi = 2 integral_0^infinity (sin(t))/t dt</plaintext>\n",
      "<img alt=\"pi = 2 integral_0^infinity (sin(t))/t dt\" height=\"45\" src=\"http://www5b.wolframalpha.com/Calculate/MSP/MSP20591hbi733ibca193bb00001e9e05cd40b59136?MSPStoreType=image/gif&amp;s=9\" title=\"pi = 2 integral_0^infinity (sin(t))/t dt\" width=\"124\"/>\n",
      "</subpod>\n",
      "<states count=\"1\">\n",
      "<state input=\"IntegralRepresentations:MathematicalFunctionIdentityData__More\" name=\"More\"></state>\n",
      "</states>\n",
      "<infos count=\"1\">\n",
      "<info>\n",
      "<link text=\"More information\" url=\"http://functions.wolfram.com/Constants/Pi/07/ShowAll.html\"/>\n",
      "</info>\n",
      "</infos>\n",
      "</pod>\n",
      "<assumptions count=\"1\">\n",
      "<assumption count=\"6\" template='Assuming \"${word}\" is ${desc1}. Use as ${desc2} instead' type=\"Clash\" word=\"pi\">\n",
      "<value desc=\"a mathematical constant\" input=\"*C.pi-_*NamedConstant-\" name=\"NamedConstant\"></value>\n",
      "<value desc=\"a character\" input=\"*C.pi-_*Character-\" name=\"Character\"></value>\n",
      "<value desc=\" referring to a mathematical definition\" input=\"*C.pi-_*MathWorld-\" name=\"MathWorld\"></value>\n",
      "<value desc=\"a class of mathematical terms\" input=\"*C.pi-_*MathWorldClass-\" name=\"MathWorldClass\"></value>\n",
      "<value desc=\"a movie\" input=\"*C.pi-_*Movie-\" name=\"Movie\"></value>\n",
      "<value desc=\"a word\" input=\"*C.pi-_*Word-\" name=\"Word\"></value>\n",
      "</assumption>\n",
      "</assumptions>\n",
      "<sources count=\"0\"></sources>\n",
      "</queryresult></body></html>\n"
     ]
    }
   ],
   "source": [
    "            \n",
    "# Ask for topic to query\n",
    "print 'Enter a topic to query on Wolfram Alpha:'\n",
    "TOPIC = raw_input()\n",
    "\n",
    "# Build URL using topic/key\n",
    "url = 'http://api.wolframalpha.com/v2/query?input=' + TOPIC + '&appid=' + wolfram_key\n",
    "\n",
    "# Scrape URL using requests and beautiful soup\n",
    "r  = requests.get(url)\n",
    "data = r.text\n",
    "soup = BeautifulSoup(data)\n",
    "\n",
    "print '\\nURL: ',url,'\\n'\n",
    "print soup"
   ]
  },
  {
   "cell_type": "code",
   "execution_count": 35,
   "metadata": {
    "collapsed": false,
    "scrolled": true
   },
   "outputs": [
    {
     "name": "stdout",
     "output_type": "stream",
     "text": [
      "SeriesRepresentations:MathematicalFunctionIdentityData\n"
     ]
    }
   ],
   "source": [
    "for i,pod in enumerate(soup.findAll('pod')):\n",
    "    if i == 6:\n",
    "        print pod['id']"
   ]
  },
  {
   "cell_type": "code",
   "execution_count": 65,
   "metadata": {
    "collapsed": false,
    "scrolled": false
   },
   "outputs": [
    {
     "name": "stdout",
     "output_type": "stream",
     "text": [
      "id = SeriesRepresentations:MathematicalFunctionIdentityData\n",
      "[<plaintext>pi = 4 sum_(k=0)^infinity (-1)^k/(2 k+1)</plaintext>, <plaintext>pi = -2+2 sum_(k=1)^infinity 2^k/(binomial(2 k, k))</plaintext>, <plaintext>pi = sum_(k=0)^infinity (50 k-6)/(2^k binomial(3 k, k))</plaintext>]\n"
     ]
    }
   ],
   "source": [
    "for i,pod in enumerate(soup.findAll('pod')):\n",
    "    if i == 6:\n",
    "        print \"id = \" + pod[\"id\"]\n",
    "        print pod.findAll(\"plaintext\")"
   ]
  },
  {
   "cell_type": "code",
   "execution_count": null,
   "metadata": {
    "collapsed": true
   },
   "outputs": [],
   "source": []
  },
  {
   "cell_type": "code",
   "execution_count": 44,
   "metadata": {
    "collapsed": false,
    "scrolled": false
   },
   "outputs": [
    {
     "name": "stdout",
     "output_type": "stream",
     "text": [
      "<pod error=\"false\" id=\"SeriesRepresentations:MathematicalFunctionIdentityData\" numsubpods=\"3\" position=\"700\" scanner=\"MathematicalFunctionData\" title=\"Series representations\">\n",
      "<subpod title=\"\">\n",
      "<plaintext>pi = 4 sum_(k=0)^infinity (-1)^k/(2 k+1)</plaintext>\n",
      "<img alt=\"pi = 4 sum_(k=0)^infinity (-1)^k/(2 k+1)\" height=\"56\" src=\"http://www5b.wolframalpha.com/Calculate/MSP/MSP20531hbi733ibca193bb00005419a9aacg54i905?MSPStoreType=image/gif&amp;s=9\" title=\"pi = 4 sum_(k=0)^infinity (-1)^k/(2 k+1)\" width=\"110\"/>\n",
      "</subpod>\n",
      "<subpod title=\"\">\n",
      "<plaintext>pi = -2+2 sum_(k=1)^infinity 2^k/(binomial(2 k, k))</plaintext>\n",
      "<img alt=\"pi = -2+2 sum_(k=1)^infinity 2^k/(binomial(2 k, k))\" height=\"69\" src=\"http://www5b.wolframalpha.com/Calculate/MSP/MSP20541hbi733ibca193bb00005c6gc11aff8i8eb1?MSPStoreType=image/gif&amp;s=9\" title=\"pi = -2+2 sum_(k=1)^infinity 2^k/(binomial(2 k, k))\" width=\"139\"/>\n",
      "</subpod>\n",
      "<subpod title=\"\">\n",
      "<plaintext>pi = sum_(k=0)^infinity (50 k-6)/(2^k binomial(3 k, k))</plaintext>\n",
      "<img alt=\"pi = sum_(k=0)^infinity (50 k-6)/(2^k binomial(3 k, k))\" height=\"67\" src=\"http://www5b.wolframalpha.com/Calculate/MSP/MSP20551hbi733ibca193bb00004d347iae2g38g6hb?MSPStoreType=image/gif&amp;s=9\" title=\"pi = sum_(k=0)^infinity (50 k-6)/(2^k binomial(3 k, k))\" width=\"111\"/>\n",
      "</subpod>\n",
      "<states count=\"1\">\n",
      "<state input=\"SeriesRepresentations:MathematicalFunctionIdentityData__More\" name=\"More\"></state>\n",
      "</states>\n",
      "<infos count=\"2\">\n",
      "<info text=\"(n\n",
      "m) is the binomial coefficient\">\n",
      "<img alt=\"(n\n",
      "m) is the binomial coefficient\" height=\"42\" src=\"http://www5b.wolframalpha.com/Calculate/MSP/MSP20561hbi733ibca193bb000057db0hh9aabh5f24?MSPStoreType=image/gif&amp;s=9\" title=\"(n\n",
      "m) is the binomial coefficient\" width=\"192\"/>\n",
      "<link text=\"Documentation\" title=\"Mathematica\" url=\"http://reference.wolfram.com/mathematica/ref/Binomial.html\"/>\n",
      "<link text=\"Properties\" title=\"Wolfram Functions Site\" url=\"http://functions.wolfram.com/GammaBetaErf/Binomial\"/>\n",
      "<link text=\"Definition\" title=\"MathWorld\" url=\"http://mathworld.wolfram.com/BinomialCoefficient.html\"/>\n",
      "</info>\n",
      "<info>\n",
      "<link text=\"More information\" url=\"http://functions.wolfram.com/Constants/Pi/06/ShowAll.html\"/>\n",
      "</info>\n",
      "</infos>\n",
      "</pod>\n"
     ]
    }
   ],
   "source": [
    "for i,pod in enumerate(soup.findAll('pod')):\n",
    "    if i == 6:\n",
    "        print pod"
   ]
  },
  {
   "cell_type": "code",
   "execution_count": 7,
   "metadata": {
    "collapsed": false
   },
   "outputs": [
    {
     "name": "stdout",
     "output_type": "stream",
     "text": [
      "What is the Decimal approximation of pi?\n"
     ]
    }
   ],
   "source": [
    "for i,pod in enumerate(soup.findAll('pod')):\n",
    "    if i == 1:\n",
    "        card_front = 'What is the ' + pod.attrs['title'] + ' of ' + TOPIC + '?'\n",
    "        break\n",
    "    \n",
    "print card_front"
   ]
  },
  {
   "cell_type": "code",
   "execution_count": null,
   "metadata": {
    "collapsed": true
   },
   "outputs": [],
   "source": [
    "''' Possible FlashCard class Psuedocode '''\n",
    "# class FlashCard():  \n",
    "#     self.raw = soup\n",
    "#     self.front = ''\n",
    "#     self.back = ''\n",
    "#     self.type = ''\n",
    "#\n",
    "#     generate_front(attr_value,TOPIC)\n",
    "#     generate_back()\n",
    "#\n",
    "#\n",
    "#     def generate_front(value,TOPIC):\n",
    "#         self.front = 'What is the ' + pod.attrs['title'] + ' of ' + TOPIC + '?' "
   ]
  }
 ],
 "metadata": {
  "kernelspec": {
   "display_name": "Python 2",
   "language": "python",
   "name": "python2"
  },
  "language_info": {
   "codemirror_mode": {
    "name": "ipython",
    "version": 2
   },
   "file_extension": ".py",
   "mimetype": "text/x-python",
   "name": "python",
   "nbconvert_exporter": "python",
   "pygments_lexer": "ipython2",
   "version": "2.7.10"
  }
 },
 "nbformat": 4,
 "nbformat_minor": 0
}
