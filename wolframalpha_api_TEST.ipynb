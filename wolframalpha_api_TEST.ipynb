{
 "cells": [
  {
   "cell_type": "code",
   "execution_count": 243,
   "metadata": {
    "collapsed": false,
    "scrolled": true
   },
   "outputs": [
    {
     "name": "stdout",
     "output_type": "stream",
     "text": [
      "Enter a topic to query on Wolfram Alpha:\n",
      "pi\n",
      "\n",
      "URL:  http://api.wolframalpha.com/v2/query?input=pi&appid=2YWVTJ-5VE4XWX5VY \n",
      "\n"
     ]
    }
   ],
   "source": [
    "from bs4 import BeautifulSoup\n",
    "import requests\n",
    "\n",
    "# Open config file to get key\n",
    "with open('wolframalpha_api.config', 'r') as f:\n",
    "    wolfram_key = f.readline()\n",
    "            \n",
    "# Ask for topic to query\n",
    "print 'Enter a topic to query on Wolfram Alpha:'\n",
    "TOPIC = raw_input()\n",
    "\n",
    "# Build URL using topic/key\n",
    "url = 'http://api.wolframalpha.com/v2/query?input=' + TOPIC + '&appid=' + wolfram_key\n",
    "\n",
    "# Scrape URL using requests and beautiful soup\n",
    "r  = requests.get(url)\n",
    "data = r.text\n",
    "soup = BeautifulSoup(data)\n",
    "\n",
    "print '\\nURL: ',url,'\\n'\n",
    "# print soup"
   ]
  },
  {
   "cell_type": "code",
   "execution_count": 253,
   "metadata": {
    "collapsed": false,
    "scrolled": true
   },
   "outputs": [
    {
     "name": "stdout",
     "output_type": "stream",
     "text": [
      "FRONT:\n",
      "Decimal approximation of pi?\n",
      "BACK:\n",
      "3.1415926535897932384626433832795028841971693993751058...\n"
     ]
    }
   ],
   "source": [
    "for i,pod in enumerate(soup.findAll('pod')):\n",
    "    if i == 1:\n",
    "#         print pod\n",
    "        card_front = pod.attrs['title'] + ' of ' + TOPIC + '?'\n",
    "        for plaintext in pod.find('plaintext'):\n",
    "            card_back = plaintext\n",
    "        break\n",
    "    \n",
    "print 'FRONT:\\n',card_front\n",
    "print 'BACK:\\n',card_back"
   ]
  },
  {
   "cell_type": "code",
   "execution_count": null,
   "metadata": {
    "collapsed": true
   },
   "outputs": [],
   "source": [
    "''' Possible FlashCard class Psuedocode '''\n",
    "# class FlashCard():  \n",
    "#     self.raw = soup\n",
    "#     self.front = ''\n",
    "#     self.back = ''\n",
    "#     self.type = ''\n",
    "#\n",
    "#     generate_front(attr_value,TOPIC)\n",
    "#     generate_back()\n",
    "#\n",
    "#\n",
    "#     def generate_front(value,TOPIC):\n",
    "#         self.front = 'What is the ' + pod.attrs['title'] + ' of ' + TOPIC + '?' "
   ]
  },
  {
   "cell_type": "code",
   "execution_count": 238,
   "metadata": {
    "collapsed": false
   },
   "outputs": [
    {
     "name": "stdout",
     "output_type": "stream",
     "text": [
      "Root\n",
      "PropertiesAsARealFunction\n",
      "Derivative\n",
      "IndefiniteIntegral\n",
      "DefiniteIntegral\n",
      "AlternativeRepresentations:MathematicalFunctionIdentityData\n",
      "SeriesRepresentations:MathematicalFunctionIdentityData\n"
     ]
    }
   ],
   "source": [
    "def save_image(url,filename):\n",
    "    '''\n",
    "    Write the image at the specified url to the 'images' folder in the current\n",
    "    working directory with the filename passed in.\n",
    "    '''\n",
    "    from urllib2 import Request, urlopen\n",
    "\n",
    "    # Make request to retrieve image given input url\n",
    "    req = Request(url)\n",
    "    f = urlopen(req)\n",
    "\n",
    "    # Write image to local file\n",
    "    file_out = open(filename, \"w\")\n",
    "    file_out.write(f.read())\n",
    "    file_out.close()\n",
    "\n",
    "for pod in soup.findAll('pod'):\n",
    "    # Skip input because it is just what we entered\n",
    "    if pod.attrs['id'] == 'Input':\n",
    "        next\n",
    "    elif pod.attrs['id'] == 'Plot':\n",
    "#         print pod\n",
    "        # TODO: This isn't generalizable when multiple images and/or states exist because only\n",
    "        # one image state is \"displayed\". Natural log is a good example of where it doesn't work.\n",
    "        for i,image in enumerate(pod.findAll('img')):\n",
    "            filename = ('images/' + TOPIC + pod.attrs['title'] + state.attrs['input'] + '.gif').replace(' ','_')\n",
    "            img_url = image.attrs['src']\n",
    "            save_image(img_url,filename)\n",
    "    else:\n",
    "        print pod.attrs['id']"
   ]
  },
  {
   "cell_type": "code",
   "execution_count": 237,
   "metadata": {
    "collapsed": false
   },
   "outputs": [
    {
     "data": {
      "text/html": [
       "<img src=\"images/natural_logPlots.gif\"/>"
      ],
      "text/plain": [
       "<IPython.core.display.Image object>"
      ]
     },
     "execution_count": 237,
     "metadata": {},
     "output_type": "execute_result"
    }
   ],
   "source": [
    "# Sanity check\n",
    "from IPython.display import Image\n",
    "Image(url='images/natural_logPlots.gif')"
   ]
  }
 ],
 "metadata": {
  "kernelspec": {
   "display_name": "Python 2",
   "language": "python",
   "name": "python2"
  },
  "language_info": {
   "codemirror_mode": {
    "name": "ipython",
    "version": 2
   },
   "file_extension": ".py",
   "mimetype": "text/x-python",
   "name": "python",
   "nbconvert_exporter": "python",
   "pygments_lexer": "ipython2",
   "version": "2.7.10"
  }
 },
 "nbformat": 4,
 "nbformat_minor": 0
}
