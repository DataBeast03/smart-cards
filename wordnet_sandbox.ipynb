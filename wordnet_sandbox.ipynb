{
 "cells": [
  {
   "cell_type": "code",
   "execution_count": 1,
   "metadata": {
    "collapsed": false
   },
   "outputs": [
    {
     "name": "stdout",
     "output_type": "stream",
     "text": [
      "Overwriting mine_wordnet.py\n"
     ]
    }
   ],
   "source": [
    "%%writefile mine_wordnet.py\n",
    "\n",
    "from nltk.corpus import wordnet as wn\n",
    "from itertools import product,chain\n",
    "from collections import defaultdict\n",
    "import operator\n",
    "\n",
    "def get_definitions(word):\n",
    "    '''\n",
    "    Takes a word as input and returns all definitions in the form of a\n",
    "    dictionary with the synset as keys and definition text as values.\n",
    "    '''\n",
    "    definitions = defaultdict()\n",
    "    for i,j in enumerate(wn.synsets(word)):\n",
    "        definitions[j] = j.definition()      \n",
    "    return definitions\n",
    "\n",
    "def calc_seed_similarity(seed_syn,topic_syns,threshold=.2):\n",
    "    \n",
    "    similarity_scores = defaultdict()\n",
    "    maxscore = 0\n",
    "    for i in range(len(topic_syns)):\n",
    "        score = seed_syn.wup_similarity(topic_syns[i]) # Wu-Palmer Similarity\n",
    "        if score > threshold:\n",
    "            similarity_scores[topic_syns[i]] = score\n",
    "    return sorted(similarity_scores.items(), key=operator.itemgetter(1), reverse=True) \n",
    "\n",
    "#### TODO: Not yet converted to real functions\n",
    "def get_synonyms(word):\n",
    "    print \"THESAURUS\"\n",
    "    print 50 * '*'\n",
    "    for i,j in enumerate(wn.synsets(topic)):\n",
    "        print \"Meaning\",i, \"NLTK ID:\", j.name()\n",
    "        print \"Definition:\",j.definition()\n",
    "        print \"Synonyms:\",  \", \".join(j.lemma_names())\n",
    "        print\n",
    "\n",
    "def get_ontology(word):\n",
    "    print \"ONTOLOGY\"\n",
    "    print 50 * '*'\n",
    "    for i,j in enumerate(wn.synsets(topic)):\n",
    "        print \"Meaning\",i, \"NLTK ID:\", j.name()\n",
    "        print \"Hypernyms:\", \", \".join(list(chain(*[l.lemma_names() for l in j.hypernyms()])))\n",
    "        print \"Hyponyms:\", \", \".join(list(chain(*[l.lemma_names() for l in j.hyponyms()])))\n",
    "        print   "
   ]
  },
  {
   "cell_type": "code",
   "execution_count": 3,
   "metadata": {
    "collapsed": false
   },
   "outputs": [
    {
     "name": "stdout",
     "output_type": "stream",
     "text": [
      "math\n",
      "Synset('mathematics.n.01')\n",
      "pi\n",
      "[Synset('protease_inhibitor.n.01'), Synset('principal_investigator.n.01'), Synset('pi.n.01'), Synset('pi.n.04'), Synset('private_detective.n.01')]\n"
     ]
    },
    {
     "data": {
      "text/plain": [
       "[(Synset('pi.n.04'), 0.2222222222222222),\n",
       " (Synset('pi.n.01'), 0.21052631578947367)]"
      ]
     },
     "execution_count": 3,
     "metadata": {},
     "output_type": "execute_result"
    }
   ],
   "source": [
    "import mine_wordnet\n",
    "reload(mine_wordnet)\n",
    "from mine_wordnet import *\n",
    "\n",
    "# Start by providing seed word to filter out unrelated topics/words\n",
    "topic_seed = 'math'\n",
    "print topic_seed\n",
    "seed_syn = get_definitions(topic_seed).keys()[0]\n",
    "print seed_syn\n",
    "\n",
    "topic = 'pi'\n",
    "print topic\n",
    "topic_syns = get_definitions(topic).keys()\n",
    "print topic_syns\n",
    "\n",
    "calc_seed_similarity(seed_syn,topic_syns)"
   ]
  }
 ],
 "metadata": {
  "kernelspec": {
   "display_name": "Python 2",
   "language": "python",
   "name": "python2"
  },
  "language_info": {
   "codemirror_mode": {
    "name": "ipython",
    "version": 2
   },
   "file_extension": ".py",
   "mimetype": "text/x-python",
   "name": "python",
   "nbconvert_exporter": "python",
   "pygments_lexer": "ipython2",
   "version": "2.7.10"
  }
 },
 "nbformat": 4,
 "nbformat_minor": 0
}
